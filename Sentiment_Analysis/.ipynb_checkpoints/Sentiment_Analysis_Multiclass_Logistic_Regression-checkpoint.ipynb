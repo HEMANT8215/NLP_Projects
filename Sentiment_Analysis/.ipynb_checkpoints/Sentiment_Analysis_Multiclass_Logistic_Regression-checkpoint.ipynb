{
 "cells": [
  {
   "cell_type": "code",
   "execution_count": 2,
   "metadata": {
    "id": "HxepDBL-z7Xu"
   },
   "outputs": [],
   "source": [
    "import numpy as np\n",
    "import pandas as pd"
   ]
  },
  {
   "cell_type": "markdown",
   "metadata": {
    "id": "ac57exoS09qI"
   },
   "source": [
    "# Loading and Cleaning Data"
   ]
  },
  {
   "cell_type": "code",
   "execution_count": 3,
   "metadata": {
    "colab": {
     "base_uri": "https://localhost:8080/"
    },
    "id": "9LBX3jnYF6YY",
    "outputId": "bc14109b-492f-474a-9d0b-e6bb918fda14"
   },
   "outputs": [],
   "source": [
    "#from google.colab import drive\n",
    "#drive.mount('/content/drive')\n",
    "#import os\n",
    "#os.chdir(\"/content/drive/MyDrive/DATA\")\n",
    "#!ls"
   ]
  },
  {
   "cell_type": "code",
   "execution_count": 5,
   "metadata": {
    "id": "jReOosMry_OD"
   },
   "outputs": [
    {
     "ename": "FileNotFoundError",
     "evalue": "[Errno 2] No such file or directory: '../Emotions.txt'",
     "output_type": "error",
     "traceback": [
      "\u001b[0;31m---------------------------------------------------------------------------\u001b[0m",
      "\u001b[0;31mFileNotFoundError\u001b[0m                         Traceback (most recent call last)",
      "\u001b[0;32m<ipython-input-5-a38cde7a4e69>\u001b[0m in \u001b[0;36m<module>\u001b[0;34m\u001b[0m\n\u001b[0;32m----> 1\u001b[0;31m \u001b[0mdf\u001b[0m \u001b[0;34m=\u001b[0m \u001b[0mpd\u001b[0m\u001b[0;34m.\u001b[0m\u001b[0mread_csv\u001b[0m\u001b[0;34m(\u001b[0m\u001b[0;34m'../Emotions.txt'\u001b[0m \u001b[0;34m,\u001b[0m\u001b[0msep\u001b[0m\u001b[0;34m=\u001b[0m\u001b[0;34m';'\u001b[0m\u001b[0;34m,\u001b[0m \u001b[0mnames\u001b[0m\u001b[0;34m=\u001b[0m\u001b[0;34m[\u001b[0m\u001b[0;34m'text'\u001b[0m\u001b[0;34m,\u001b[0m \u001b[0;34m'category'\u001b[0m\u001b[0;34m]\u001b[0m\u001b[0;34m,\u001b[0m \u001b[0mindex_col\u001b[0m\u001b[0;34m=\u001b[0m\u001b[0;32mFalse\u001b[0m\u001b[0;34m)\u001b[0m\u001b[0;34m\u001b[0m\u001b[0;34m\u001b[0m\u001b[0m\n\u001b[0m",
      "\u001b[0;32m~/opt/anaconda3/lib/python3.8/site-packages/pandas/io/parsers.py\u001b[0m in \u001b[0;36mread_csv\u001b[0;34m(filepath_or_buffer, sep, delimiter, header, names, index_col, usecols, squeeze, prefix, mangle_dupe_cols, dtype, engine, converters, true_values, false_values, skipinitialspace, skiprows, skipfooter, nrows, na_values, keep_default_na, na_filter, verbose, skip_blank_lines, parse_dates, infer_datetime_format, keep_date_col, date_parser, dayfirst, cache_dates, iterator, chunksize, compression, thousands, decimal, lineterminator, quotechar, quoting, doublequote, escapechar, comment, encoding, dialect, error_bad_lines, warn_bad_lines, delim_whitespace, low_memory, memory_map, float_precision)\u001b[0m\n\u001b[1;32m    684\u001b[0m     )\n\u001b[1;32m    685\u001b[0m \u001b[0;34m\u001b[0m\u001b[0m\n\u001b[0;32m--> 686\u001b[0;31m     \u001b[0;32mreturn\u001b[0m \u001b[0m_read\u001b[0m\u001b[0;34m(\u001b[0m\u001b[0mfilepath_or_buffer\u001b[0m\u001b[0;34m,\u001b[0m \u001b[0mkwds\u001b[0m\u001b[0;34m)\u001b[0m\u001b[0;34m\u001b[0m\u001b[0;34m\u001b[0m\u001b[0m\n\u001b[0m\u001b[1;32m    687\u001b[0m \u001b[0;34m\u001b[0m\u001b[0m\n\u001b[1;32m    688\u001b[0m \u001b[0;34m\u001b[0m\u001b[0m\n",
      "\u001b[0;32m~/opt/anaconda3/lib/python3.8/site-packages/pandas/io/parsers.py\u001b[0m in \u001b[0;36m_read\u001b[0;34m(filepath_or_buffer, kwds)\u001b[0m\n\u001b[1;32m    450\u001b[0m \u001b[0;34m\u001b[0m\u001b[0m\n\u001b[1;32m    451\u001b[0m     \u001b[0;31m# Create the parser.\u001b[0m\u001b[0;34m\u001b[0m\u001b[0;34m\u001b[0m\u001b[0;34m\u001b[0m\u001b[0m\n\u001b[0;32m--> 452\u001b[0;31m     \u001b[0mparser\u001b[0m \u001b[0;34m=\u001b[0m \u001b[0mTextFileReader\u001b[0m\u001b[0;34m(\u001b[0m\u001b[0mfp_or_buf\u001b[0m\u001b[0;34m,\u001b[0m \u001b[0;34m**\u001b[0m\u001b[0mkwds\u001b[0m\u001b[0;34m)\u001b[0m\u001b[0;34m\u001b[0m\u001b[0;34m\u001b[0m\u001b[0m\n\u001b[0m\u001b[1;32m    453\u001b[0m \u001b[0;34m\u001b[0m\u001b[0m\n\u001b[1;32m    454\u001b[0m     \u001b[0;32mif\u001b[0m \u001b[0mchunksize\u001b[0m \u001b[0;32mor\u001b[0m \u001b[0miterator\u001b[0m\u001b[0;34m:\u001b[0m\u001b[0;34m\u001b[0m\u001b[0;34m\u001b[0m\u001b[0m\n",
      "\u001b[0;32m~/opt/anaconda3/lib/python3.8/site-packages/pandas/io/parsers.py\u001b[0m in \u001b[0;36m__init__\u001b[0;34m(self, f, engine, **kwds)\u001b[0m\n\u001b[1;32m    944\u001b[0m             \u001b[0mself\u001b[0m\u001b[0;34m.\u001b[0m\u001b[0moptions\u001b[0m\u001b[0;34m[\u001b[0m\u001b[0;34m\"has_index_names\"\u001b[0m\u001b[0;34m]\u001b[0m \u001b[0;34m=\u001b[0m \u001b[0mkwds\u001b[0m\u001b[0;34m[\u001b[0m\u001b[0;34m\"has_index_names\"\u001b[0m\u001b[0;34m]\u001b[0m\u001b[0;34m\u001b[0m\u001b[0;34m\u001b[0m\u001b[0m\n\u001b[1;32m    945\u001b[0m \u001b[0;34m\u001b[0m\u001b[0m\n\u001b[0;32m--> 946\u001b[0;31m         \u001b[0mself\u001b[0m\u001b[0;34m.\u001b[0m\u001b[0m_make_engine\u001b[0m\u001b[0;34m(\u001b[0m\u001b[0mself\u001b[0m\u001b[0;34m.\u001b[0m\u001b[0mengine\u001b[0m\u001b[0;34m)\u001b[0m\u001b[0;34m\u001b[0m\u001b[0;34m\u001b[0m\u001b[0m\n\u001b[0m\u001b[1;32m    947\u001b[0m \u001b[0;34m\u001b[0m\u001b[0m\n\u001b[1;32m    948\u001b[0m     \u001b[0;32mdef\u001b[0m \u001b[0mclose\u001b[0m\u001b[0;34m(\u001b[0m\u001b[0mself\u001b[0m\u001b[0;34m)\u001b[0m\u001b[0;34m:\u001b[0m\u001b[0;34m\u001b[0m\u001b[0;34m\u001b[0m\u001b[0m\n",
      "\u001b[0;32m~/opt/anaconda3/lib/python3.8/site-packages/pandas/io/parsers.py\u001b[0m in \u001b[0;36m_make_engine\u001b[0;34m(self, engine)\u001b[0m\n\u001b[1;32m   1176\u001b[0m     \u001b[0;32mdef\u001b[0m \u001b[0m_make_engine\u001b[0m\u001b[0;34m(\u001b[0m\u001b[0mself\u001b[0m\u001b[0;34m,\u001b[0m \u001b[0mengine\u001b[0m\u001b[0;34m=\u001b[0m\u001b[0;34m\"c\"\u001b[0m\u001b[0;34m)\u001b[0m\u001b[0;34m:\u001b[0m\u001b[0;34m\u001b[0m\u001b[0;34m\u001b[0m\u001b[0m\n\u001b[1;32m   1177\u001b[0m         \u001b[0;32mif\u001b[0m \u001b[0mengine\u001b[0m \u001b[0;34m==\u001b[0m \u001b[0;34m\"c\"\u001b[0m\u001b[0;34m:\u001b[0m\u001b[0;34m\u001b[0m\u001b[0;34m\u001b[0m\u001b[0m\n\u001b[0;32m-> 1178\u001b[0;31m             \u001b[0mself\u001b[0m\u001b[0;34m.\u001b[0m\u001b[0m_engine\u001b[0m \u001b[0;34m=\u001b[0m \u001b[0mCParserWrapper\u001b[0m\u001b[0;34m(\u001b[0m\u001b[0mself\u001b[0m\u001b[0;34m.\u001b[0m\u001b[0mf\u001b[0m\u001b[0;34m,\u001b[0m \u001b[0;34m**\u001b[0m\u001b[0mself\u001b[0m\u001b[0;34m.\u001b[0m\u001b[0moptions\u001b[0m\u001b[0;34m)\u001b[0m\u001b[0;34m\u001b[0m\u001b[0;34m\u001b[0m\u001b[0m\n\u001b[0m\u001b[1;32m   1179\u001b[0m         \u001b[0;32melse\u001b[0m\u001b[0;34m:\u001b[0m\u001b[0;34m\u001b[0m\u001b[0;34m\u001b[0m\u001b[0m\n\u001b[1;32m   1180\u001b[0m             \u001b[0;32mif\u001b[0m \u001b[0mengine\u001b[0m \u001b[0;34m==\u001b[0m \u001b[0;34m\"python\"\u001b[0m\u001b[0;34m:\u001b[0m\u001b[0;34m\u001b[0m\u001b[0;34m\u001b[0m\u001b[0m\n",
      "\u001b[0;32m~/opt/anaconda3/lib/python3.8/site-packages/pandas/io/parsers.py\u001b[0m in \u001b[0;36m__init__\u001b[0;34m(self, src, **kwds)\u001b[0m\n\u001b[1;32m   2006\u001b[0m         \u001b[0mkwds\u001b[0m\u001b[0;34m[\u001b[0m\u001b[0;34m\"usecols\"\u001b[0m\u001b[0;34m]\u001b[0m \u001b[0;34m=\u001b[0m \u001b[0mself\u001b[0m\u001b[0;34m.\u001b[0m\u001b[0musecols\u001b[0m\u001b[0;34m\u001b[0m\u001b[0;34m\u001b[0m\u001b[0m\n\u001b[1;32m   2007\u001b[0m \u001b[0;34m\u001b[0m\u001b[0m\n\u001b[0;32m-> 2008\u001b[0;31m         \u001b[0mself\u001b[0m\u001b[0;34m.\u001b[0m\u001b[0m_reader\u001b[0m \u001b[0;34m=\u001b[0m \u001b[0mparsers\u001b[0m\u001b[0;34m.\u001b[0m\u001b[0mTextReader\u001b[0m\u001b[0;34m(\u001b[0m\u001b[0msrc\u001b[0m\u001b[0;34m,\u001b[0m \u001b[0;34m**\u001b[0m\u001b[0mkwds\u001b[0m\u001b[0;34m)\u001b[0m\u001b[0;34m\u001b[0m\u001b[0;34m\u001b[0m\u001b[0m\n\u001b[0m\u001b[1;32m   2009\u001b[0m         \u001b[0mself\u001b[0m\u001b[0;34m.\u001b[0m\u001b[0munnamed_cols\u001b[0m \u001b[0;34m=\u001b[0m \u001b[0mself\u001b[0m\u001b[0;34m.\u001b[0m\u001b[0m_reader\u001b[0m\u001b[0;34m.\u001b[0m\u001b[0munnamed_cols\u001b[0m\u001b[0;34m\u001b[0m\u001b[0;34m\u001b[0m\u001b[0m\n\u001b[1;32m   2010\u001b[0m \u001b[0;34m\u001b[0m\u001b[0m\n",
      "\u001b[0;32mpandas/_libs/parsers.pyx\u001b[0m in \u001b[0;36mpandas._libs.parsers.TextReader.__cinit__\u001b[0;34m()\u001b[0m\n",
      "\u001b[0;32mpandas/_libs/parsers.pyx\u001b[0m in \u001b[0;36mpandas._libs.parsers.TextReader._setup_parser_source\u001b[0;34m()\u001b[0m\n",
      "\u001b[0;31mFileNotFoundError\u001b[0m: [Errno 2] No such file or directory: '../Emotions.txt'"
     ]
    }
   ],
   "source": [
    "df = pd.read_csv('../Emotions.txt' ,sep=';', names=['text', 'category'], index_col=False)\n"
   ]
  },
  {
   "cell_type": "code",
   "execution_count": 4,
   "metadata": {
    "colab": {
     "base_uri": "https://localhost:8080/",
     "height": 204
    },
    "id": "AGYvrD6pz6yF",
    "outputId": "cab48162-755c-474a-d4df-3255281d905c"
   },
   "outputs": [
    {
     "data": {
      "text/html": [
       "<div>\n",
       "<style scoped>\n",
       "    .dataframe tbody tr th:only-of-type {\n",
       "        vertical-align: middle;\n",
       "    }\n",
       "\n",
       "    .dataframe tbody tr th {\n",
       "        vertical-align: top;\n",
       "    }\n",
       "\n",
       "    .dataframe thead th {\n",
       "        text-align: right;\n",
       "    }\n",
       "</style>\n",
       "<table border=\"1\" class=\"dataframe\">\n",
       "  <thead>\n",
       "    <tr style=\"text-align: right;\">\n",
       "      <th></th>\n",
       "      <th>text</th>\n",
       "      <th>category</th>\n",
       "    </tr>\n",
       "  </thead>\n",
       "  <tbody>\n",
       "    <tr>\n",
       "      <th>0</th>\n",
       "      <td>i didnt feel humiliated</td>\n",
       "      <td>sadness</td>\n",
       "    </tr>\n",
       "    <tr>\n",
       "      <th>1</th>\n",
       "      <td>i can go from feeling so hopeless to so damned...</td>\n",
       "      <td>sadness</td>\n",
       "    </tr>\n",
       "    <tr>\n",
       "      <th>2</th>\n",
       "      <td>im grabbing a minute to post i feel greedy wrong</td>\n",
       "      <td>anger</td>\n",
       "    </tr>\n",
       "    <tr>\n",
       "      <th>3</th>\n",
       "      <td>i am ever feeling nostalgic about the fireplac...</td>\n",
       "      <td>love</td>\n",
       "    </tr>\n",
       "    <tr>\n",
       "      <th>4</th>\n",
       "      <td>i am feeling grouchy</td>\n",
       "      <td>anger</td>\n",
       "    </tr>\n",
       "  </tbody>\n",
       "</table>\n",
       "</div>"
      ],
      "text/plain": [
       "                                                text category\n",
       "0                            i didnt feel humiliated  sadness\n",
       "1  i can go from feeling so hopeless to so damned...  sadness\n",
       "2   im grabbing a minute to post i feel greedy wrong    anger\n",
       "3  i am ever feeling nostalgic about the fireplac...     love\n",
       "4                               i am feeling grouchy    anger"
      ]
     },
     "execution_count": 4,
     "metadata": {
      "tags": []
     },
     "output_type": "execute_result"
    }
   ],
   "source": [
    "df.head()"
   ]
  },
  {
   "cell_type": "code",
   "execution_count": 5,
   "metadata": {
    "colab": {
     "base_uri": "https://localhost:8080/"
    },
    "id": "dc21pD860Ekg",
    "outputId": "421e86db-0d37-469f-9af3-783dbc56551a"
   },
   "outputs": [
    {
     "data": {
      "text/plain": [
       "joy         5362\n",
       "sadness     4666\n",
       "anger       2159\n",
       "fear        1937\n",
       "love        1304\n",
       "surprise     572\n",
       "Name: category, dtype: int64"
      ]
     },
     "execution_count": 5,
     "metadata": {
      "tags": []
     },
     "output_type": "execute_result"
    }
   ],
   "source": [
    "df.category.value_counts()"
   ]
  },
  {
   "cell_type": "code",
   "execution_count": 6,
   "metadata": {
    "colab": {
     "base_uri": "https://localhost:8080/"
    },
    "id": "MOjrBjbT0FUF",
    "outputId": "4bed6f11-4cc2-436c-84e3-2bf5301771f0"
   },
   "outputs": [
    {
     "name": "stdout",
     "output_type": "stream",
     "text": [
      "['sadness' 'anger' 'love' 'surprise' 'fear' 'joy']\n"
     ]
    }
   ],
   "source": [
    "possible_labels = df.category.unique()\n",
    "print(possible_labels)"
   ]
  },
  {
   "cell_type": "code",
   "execution_count": 7,
   "metadata": {
    "colab": {
     "base_uri": "https://localhost:8080/"
    },
    "id": "r0u6TEQy0FWm",
    "outputId": "fd13dfc6-b08e-45f7-a477-9fcbe7dfba60"
   },
   "outputs": [
    {
     "name": "stdout",
     "output_type": "stream",
     "text": [
      "{'sadness': 0, 'anger': 1, 'love': 2, 'surprise': 3, 'fear': 4, 'joy': 5}\n"
     ]
    }
   ],
   "source": [
    "label_dict = {}\n",
    "for index, possible_label in enumerate(possible_labels):\n",
    "    label_dict[possible_label] = index\n",
    "\n",
    "print(label_dict)"
   ]
  },
  {
   "cell_type": "code",
   "execution_count": 8,
   "metadata": {
    "colab": {
     "base_uri": "https://localhost:8080/",
     "height": 419
    },
    "id": "2LA0LDtv0FZF",
    "outputId": "11fcc0d6-d8dc-461b-ef38-6f244a3e4534"
   },
   "outputs": [
    {
     "data": {
      "text/html": [
       "<div>\n",
       "<style scoped>\n",
       "    .dataframe tbody tr th:only-of-type {\n",
       "        vertical-align: middle;\n",
       "    }\n",
       "\n",
       "    .dataframe tbody tr th {\n",
       "        vertical-align: top;\n",
       "    }\n",
       "\n",
       "    .dataframe thead th {\n",
       "        text-align: right;\n",
       "    }\n",
       "</style>\n",
       "<table border=\"1\" class=\"dataframe\">\n",
       "  <thead>\n",
       "    <tr style=\"text-align: right;\">\n",
       "      <th></th>\n",
       "      <th>text</th>\n",
       "      <th>category</th>\n",
       "      <th>label</th>\n",
       "    </tr>\n",
       "  </thead>\n",
       "  <tbody>\n",
       "    <tr>\n",
       "      <th>0</th>\n",
       "      <td>i didnt feel humiliated</td>\n",
       "      <td>sadness</td>\n",
       "      <td>0</td>\n",
       "    </tr>\n",
       "    <tr>\n",
       "      <th>1</th>\n",
       "      <td>i can go from feeling so hopeless to so damned...</td>\n",
       "      <td>sadness</td>\n",
       "      <td>0</td>\n",
       "    </tr>\n",
       "    <tr>\n",
       "      <th>2</th>\n",
       "      <td>im grabbing a minute to post i feel greedy wrong</td>\n",
       "      <td>anger</td>\n",
       "      <td>1</td>\n",
       "    </tr>\n",
       "    <tr>\n",
       "      <th>3</th>\n",
       "      <td>i am ever feeling nostalgic about the fireplac...</td>\n",
       "      <td>love</td>\n",
       "      <td>2</td>\n",
       "    </tr>\n",
       "    <tr>\n",
       "      <th>4</th>\n",
       "      <td>i am feeling grouchy</td>\n",
       "      <td>anger</td>\n",
       "      <td>1</td>\n",
       "    </tr>\n",
       "    <tr>\n",
       "      <th>...</th>\n",
       "      <td>...</td>\n",
       "      <td>...</td>\n",
       "      <td>...</td>\n",
       "    </tr>\n",
       "    <tr>\n",
       "      <th>95</th>\n",
       "      <td>i feel like throwing away the shitty piece of ...</td>\n",
       "      <td>sadness</td>\n",
       "      <td>0</td>\n",
       "    </tr>\n",
       "    <tr>\n",
       "      <th>96</th>\n",
       "      <td>im starting to feel wryly amused at the banal ...</td>\n",
       "      <td>joy</td>\n",
       "      <td>5</td>\n",
       "    </tr>\n",
       "    <tr>\n",
       "      <th>97</th>\n",
       "      <td>i find every body beautiful and only want peop...</td>\n",
       "      <td>joy</td>\n",
       "      <td>5</td>\n",
       "    </tr>\n",
       "    <tr>\n",
       "      <th>98</th>\n",
       "      <td>i hear are owners who feel victimized by their...</td>\n",
       "      <td>sadness</td>\n",
       "      <td>0</td>\n",
       "    </tr>\n",
       "    <tr>\n",
       "      <th>99</th>\n",
       "      <td>i say goodbye to the fam theyre all sad a cryi...</td>\n",
       "      <td>anger</td>\n",
       "      <td>1</td>\n",
       "    </tr>\n",
       "  </tbody>\n",
       "</table>\n",
       "<p>100 rows × 3 columns</p>\n",
       "</div>"
      ],
      "text/plain": [
       "                                                 text category  label\n",
       "0                             i didnt feel humiliated  sadness      0\n",
       "1   i can go from feeling so hopeless to so damned...  sadness      0\n",
       "2    im grabbing a minute to post i feel greedy wrong    anger      1\n",
       "3   i am ever feeling nostalgic about the fireplac...     love      2\n",
       "4                                i am feeling grouchy    anger      1\n",
       "..                                                ...      ...    ...\n",
       "95  i feel like throwing away the shitty piece of ...  sadness      0\n",
       "96  im starting to feel wryly amused at the banal ...      joy      5\n",
       "97  i find every body beautiful and only want peop...      joy      5\n",
       "98  i hear are owners who feel victimized by their...  sadness      0\n",
       "99  i say goodbye to the fam theyre all sad a cryi...    anger      1\n",
       "\n",
       "[100 rows x 3 columns]"
      ]
     },
     "execution_count": 8,
     "metadata": {
      "tags": []
     },
     "output_type": "execute_result"
    }
   ],
   "source": [
    "df['label'] = df.category.replace(label_dict)\n",
    "df.head(100)"
   ]
  },
  {
   "cell_type": "code",
   "execution_count": 9,
   "metadata": {
    "id": "8FlKXgCc0FbW"
   },
   "outputs": [],
   "source": [
    "df = df.drop(['category'], axis = 1)\n"
   ]
  },
  {
   "cell_type": "code",
   "execution_count": 10,
   "metadata": {
    "colab": {
     "base_uri": "https://localhost:8080/",
     "height": 669
    },
    "id": "qmYMAsmqT1ay",
    "outputId": "fb5478ab-2781-4af1-caca-95a4f976e8df"
   },
   "outputs": [
    {
     "data": {
      "text/html": [
       "<div>\n",
       "<style scoped>\n",
       "    .dataframe tbody tr th:only-of-type {\n",
       "        vertical-align: middle;\n",
       "    }\n",
       "\n",
       "    .dataframe tbody tr th {\n",
       "        vertical-align: top;\n",
       "    }\n",
       "\n",
       "    .dataframe thead th {\n",
       "        text-align: right;\n",
       "    }\n",
       "</style>\n",
       "<table border=\"1\" class=\"dataframe\">\n",
       "  <thead>\n",
       "    <tr style=\"text-align: right;\">\n",
       "      <th></th>\n",
       "      <th>text</th>\n",
       "      <th>label</th>\n",
       "    </tr>\n",
       "  </thead>\n",
       "  <tbody>\n",
       "    <tr>\n",
       "      <th>0</th>\n",
       "      <td>i didnt feel humiliated</td>\n",
       "      <td>0</td>\n",
       "    </tr>\n",
       "    <tr>\n",
       "      <th>1</th>\n",
       "      <td>i can go from feeling so hopeless to so damned...</td>\n",
       "      <td>0</td>\n",
       "    </tr>\n",
       "    <tr>\n",
       "      <th>2</th>\n",
       "      <td>im grabbing a minute to post i feel greedy wrong</td>\n",
       "      <td>1</td>\n",
       "    </tr>\n",
       "    <tr>\n",
       "      <th>3</th>\n",
       "      <td>i am ever feeling nostalgic about the fireplac...</td>\n",
       "      <td>2</td>\n",
       "    </tr>\n",
       "    <tr>\n",
       "      <th>4</th>\n",
       "      <td>i am feeling grouchy</td>\n",
       "      <td>1</td>\n",
       "    </tr>\n",
       "    <tr>\n",
       "      <th>5</th>\n",
       "      <td>ive been feeling a little burdened lately wasn...</td>\n",
       "      <td>0</td>\n",
       "    </tr>\n",
       "    <tr>\n",
       "      <th>6</th>\n",
       "      <td>ive been taking or milligrams or times recomme...</td>\n",
       "      <td>3</td>\n",
       "    </tr>\n",
       "    <tr>\n",
       "      <th>7</th>\n",
       "      <td>i feel as confused about life as a teenager or...</td>\n",
       "      <td>4</td>\n",
       "    </tr>\n",
       "    <tr>\n",
       "      <th>8</th>\n",
       "      <td>i have been with petronas for years i feel tha...</td>\n",
       "      <td>5</td>\n",
       "    </tr>\n",
       "    <tr>\n",
       "      <th>9</th>\n",
       "      <td>i feel romantic too</td>\n",
       "      <td>2</td>\n",
       "    </tr>\n",
       "    <tr>\n",
       "      <th>10</th>\n",
       "      <td>i feel like i have to make the suffering i m s...</td>\n",
       "      <td>0</td>\n",
       "    </tr>\n",
       "    <tr>\n",
       "      <th>11</th>\n",
       "      <td>i do feel that running is a divine experience ...</td>\n",
       "      <td>5</td>\n",
       "    </tr>\n",
       "    <tr>\n",
       "      <th>12</th>\n",
       "      <td>i think it s the easiest time of year to feel ...</td>\n",
       "      <td>1</td>\n",
       "    </tr>\n",
       "    <tr>\n",
       "      <th>13</th>\n",
       "      <td>i feel low energy i m just thirsty</td>\n",
       "      <td>0</td>\n",
       "    </tr>\n",
       "    <tr>\n",
       "      <th>14</th>\n",
       "      <td>i have immense sympathy with the general point...</td>\n",
       "      <td>5</td>\n",
       "    </tr>\n",
       "    <tr>\n",
       "      <th>15</th>\n",
       "      <td>i do not feel reassured anxiety is on each side</td>\n",
       "      <td>5</td>\n",
       "    </tr>\n",
       "    <tr>\n",
       "      <th>16</th>\n",
       "      <td>i didnt really feel that embarrassed</td>\n",
       "      <td>0</td>\n",
       "    </tr>\n",
       "    <tr>\n",
       "      <th>17</th>\n",
       "      <td>i feel pretty pathetic most of the time</td>\n",
       "      <td>0</td>\n",
       "    </tr>\n",
       "    <tr>\n",
       "      <th>18</th>\n",
       "      <td>i started feeling sentimental about dolls i ha...</td>\n",
       "      <td>0</td>\n",
       "    </tr>\n",
       "    <tr>\n",
       "      <th>19</th>\n",
       "      <td>i now feel compromised and skeptical of the va...</td>\n",
       "      <td>4</td>\n",
       "    </tr>\n",
       "  </tbody>\n",
       "</table>\n",
       "</div>"
      ],
      "text/plain": [
       "                                                 text  label\n",
       "0                             i didnt feel humiliated      0\n",
       "1   i can go from feeling so hopeless to so damned...      0\n",
       "2    im grabbing a minute to post i feel greedy wrong      1\n",
       "3   i am ever feeling nostalgic about the fireplac...      2\n",
       "4                                i am feeling grouchy      1\n",
       "5   ive been feeling a little burdened lately wasn...      0\n",
       "6   ive been taking or milligrams or times recomme...      3\n",
       "7   i feel as confused about life as a teenager or...      4\n",
       "8   i have been with petronas for years i feel tha...      5\n",
       "9                                 i feel romantic too      2\n",
       "10  i feel like i have to make the suffering i m s...      0\n",
       "11  i do feel that running is a divine experience ...      5\n",
       "12  i think it s the easiest time of year to feel ...      1\n",
       "13                 i feel low energy i m just thirsty      0\n",
       "14  i have immense sympathy with the general point...      5\n",
       "15    i do not feel reassured anxiety is on each side      5\n",
       "16               i didnt really feel that embarrassed      0\n",
       "17            i feel pretty pathetic most of the time      0\n",
       "18  i started feeling sentimental about dolls i ha...      0\n",
       "19  i now feel compromised and skeptical of the va...      4"
      ]
     },
     "execution_count": 10,
     "metadata": {
      "tags": []
     },
     "output_type": "execute_result"
    }
   ],
   "source": [
    "df.head(20)"
   ]
  },
  {
   "cell_type": "markdown",
   "metadata": {
    "id": "ye4iFOiLtWSF"
   },
   "source": [
    "# Training/Validation Split"
   ]
  },
  {
   "cell_type": "code",
   "execution_count": 11,
   "metadata": {
    "id": "5-u8yk61tcpI"
   },
   "outputs": [],
   "source": [
    "from sklearn.model_selection import train_test_split"
   ]
  },
  {
   "cell_type": "code",
   "execution_count": 12,
   "metadata": {
    "id": "NnDQm1Autl76"
   },
   "outputs": [],
   "source": [
    "x_train, x_val, y_train, y_val = train_test_split(df['text'], \n",
    "                                                  df['label'], \n",
    "                                                  test_size=0.20, \n",
    "                                                  random_state=17, \n",
    "                                                  stratify = df['label'])"
   ]
  },
  {
   "cell_type": "code",
   "execution_count": 13,
   "metadata": {
    "id": "ATimb5gz0OZ6"
   },
   "outputs": [],
   "source": [
    "x_train=x_train.to_numpy()\n",
    "x_val=x_val.to_numpy()\n",
    "y_train=y_train.to_numpy()\n",
    "y_val=y_val.to_numpy()"
   ]
  },
  {
   "cell_type": "code",
   "execution_count": 14,
   "metadata": {
    "colab": {
     "base_uri": "https://localhost:8080/",
     "height": 35
    },
    "id": "ioSCPiiQT6nc",
    "outputId": "33e01288-d216-4afc-b9a6-3118b9329632"
   },
   "outputs": [
    {
     "data": {
      "application/vnd.google.colaboratory.intrinsic+json": {
       "type": "string"
      },
      "text/plain": [
       "'i feel sarcastic more often than not'"
      ]
     },
     "execution_count": 14,
     "metadata": {
      "tags": []
     },
     "output_type": "execute_result"
    }
   ],
   "source": [
    "x_train[2]"
   ]
  },
  {
   "cell_type": "code",
   "execution_count": 15,
   "metadata": {
    "colab": {
     "base_uri": "https://localhost:8080/"
    },
    "id": "fWyf22Hqc3b6",
    "outputId": "9b983f18-396a-4a0d-a744-8a10706d5ecc"
   },
   "outputs": [
    {
     "data": {
      "text/plain": [
       "(12800,)"
      ]
     },
     "execution_count": 15,
     "metadata": {
      "tags": []
     },
     "output_type": "execute_result"
    }
   ],
   "source": [
    "x_train.shape"
   ]
  },
  {
   "cell_type": "code",
   "execution_count": 16,
   "metadata": {
    "colab": {
     "base_uri": "https://localhost:8080/"
    },
    "id": "4kYopo9KbrG6",
    "outputId": "1aad55ea-b436-4c33-c637-c3a5bab4cf35"
   },
   "outputs": [
    {
     "data": {
      "text/plain": [
       "1"
      ]
     },
     "execution_count": 16,
     "metadata": {
      "tags": []
     },
     "output_type": "execute_result"
    }
   ],
   "source": [
    "y_train[3]"
   ]
  },
  {
   "cell_type": "code",
   "execution_count": 17,
   "metadata": {
    "colab": {
     "base_uri": "https://localhost:8080/"
    },
    "id": "nl_djslvELqS",
    "outputId": "b55b535e-8d8d-4a2b-f954-ffc4ebd5ad53"
   },
   "outputs": [
    {
     "name": "stdout",
     "output_type": "stream",
     "text": [
      "[0 5 1 ... 0 0 0]\n"
     ]
    }
   ],
   "source": [
    "print(y_train)"
   ]
  },
  {
   "cell_type": "markdown",
   "metadata": {
    "id": "7wq58tX-lrtG"
   },
   "source": [
    "# Text Preprocessing "
   ]
  },
  {
   "cell_type": "code",
   "execution_count": 18,
   "metadata": {
    "colab": {
     "base_uri": "https://localhost:8080/"
    },
    "id": "ooFR8I-hl-z6",
    "outputId": "d1821f17-829f-4b3c-a409-df7ddb930191"
   },
   "outputs": [
    {
     "name": "stdout",
     "output_type": "stream",
     "text": [
      "[nltk_data] Downloading package stopwords to /root/nltk_data...\n",
      "[nltk_data]   Unzipping corpora/stopwords.zip.\n",
      "[nltk_data] Downloading package punkt to /root/nltk_data...\n",
      "[nltk_data]   Unzipping tokenizers/punkt.zip.\n"
     ]
    }
   ],
   "source": [
    "import string\n",
    "import re\n",
    "import os\n",
    "import nltk\n",
    "nltk.download('stopwords')\n",
    "nltk.download('punkt')\n",
    "from nltk.tokenize import word_tokenize\n",
    "from nltk.corpus import stopwords"
   ]
  },
  {
   "cell_type": "code",
   "execution_count": 19,
   "metadata": {
    "id": "y3SL4Smtl-9J"
   },
   "outputs": [],
   "source": [
    "stopwords_english = stopwords.words('english')\n",
    "\n",
    "from nltk.stem import PorterStemmer\n",
    "stemmer = PorterStemmer()"
   ]
  },
  {
   "cell_type": "code",
   "execution_count": 20,
   "metadata": {
    "id": "PQCBLYmLl-_4"
   },
   "outputs": [],
   "source": [
    "def process_text(text):\n",
    "    '''\n",
    "    Input: \n",
    "        text: a string containing a text\n",
    "    Output:\n",
    "        text_clean: a list of words containing the processed text\n",
    "    \n",
    "    '''\n",
    "    # remove number \n",
    "    text = re.sub('[0-9]', '', text)\n",
    "    # remove stock market tickers like $GE\n",
    "    text = re.sub(r'\\$\\w*', '', text)\n",
    "    # remove old style text \"RT\"\n",
    "    text = re.sub(r'^RT[\\s]+', '', text)\n",
    "    # remove hyperlinks\n",
    "    text = re.sub(r'https?:\\/\\/.*[\\r\\n]*', '', text)\n",
    "    # remove hashtags\n",
    "    # only removing the hash # sign from the word\n",
    "    text = re.sub(r'#', '', text)\n",
    "    # remove the dates like Mar 30 2013\n",
    "    text = re.sub('(Jan|Feb|Mar|Apr|May|Jun|Jul|Aug|Sep|Oct|Nov|Dec)\\s\\d{2}\\s\\d{4}', ' ', text)\n",
    "    text = re.sub(r'//', '', text)\n",
    "    # tokenize texts\n",
    "    text_tokens = word_tokenize(text)\n",
    "    ### START CODE HERE ###\n",
    "    text_clean = []\n",
    "    for word in text_tokens:\n",
    "        if (word not in stopwords_english and # remove stopwords\n",
    "            word not in string.punctuation): # remove punctuation\n",
    "            text_clean.append(word)\n",
    "            #stem_word = stemmer.stem(word) # stemming word\n",
    "            #text_clean.append(stem_word)\n",
    "    ### END CODE HERE ###\n",
    "    return text_clean"
   ]
  },
  {
   "cell_type": "markdown",
   "metadata": {
    "id": "P_s6vTL8Lg0X"
   },
   "source": [
    "# Multiclass logistic regression"
   ]
  },
  {
   "cell_type": "code",
   "execution_count": 21,
   "metadata": {
    "id": "Ss2XEiOmL8VW"
   },
   "outputs": [],
   "source": [
    "## upload word emebedding file on google drive\n",
    "def read_glove_vecs(glove_file):\n",
    "    with open(glove_file, 'r') as f:\n",
    "        words = set()\n",
    "        word_to_vec_map = {}\n",
    "        for line in f:\n",
    "            line = line.strip().split()\n",
    "            curr_word = line[0]\n",
    "            words.add(curr_word)\n",
    "            word_to_vec_map[curr_word] = np.array(line[1:], dtype=np.float64)\n",
    "        \n",
    "        i = 1\n",
    "        words_to_index = {}\n",
    "        index_to_words = {}\n",
    "        for w in sorted(words):\n",
    "            words_to_index[w] = i\n",
    "            index_to_words[i] = w\n",
    "            i = i + 1\n",
    "    return words, words_to_index, index_to_words, word_to_vec_map"
   ]
  },
  {
   "cell_type": "code",
   "execution_count": 22,
   "metadata": {
    "id": "Om1X-HjVLtfQ"
   },
   "outputs": [],
   "source": [
    "words, word_to_index, index_to_word, word_to_vec_map = read_glove_vecs('glove.6B.50d.txt')"
   ]
  },
  {
   "cell_type": "code",
   "execution_count": 23,
   "metadata": {
    "id": "YH6kbG1k8CnL"
   },
   "outputs": [],
   "source": [
    "def text_to_vec(text, word_to_vec_map):\n",
    "    \n",
    "    features = np.zeros((50, ))\n",
    "    \n",
    "    for w in text:\n",
    "  \n",
    "      if w in words:\n",
    "        \n",
    "        features += word_to_vec_map[w]\n",
    "    features /= len(text)\n",
    "   \n",
    "    \n",
    "    return features"
   ]
  },
  {
   "cell_type": "code",
   "execution_count": 24,
   "metadata": {
    "id": "-LfNwL058L6S"
   },
   "outputs": [],
   "source": [
    "def prepare_data(text_array):\n",
    "  processed_array = np.zeros((text_array.shape[0], 50))\n",
    "  processed_text = []\n",
    "  text_vector = []\n",
    "  i=0\n",
    "  for text in text_array:\n",
    "    \n",
    "    processed_text = process_text(text)\n",
    "    text_vector = text_to_vec(processed_text, word_to_vec_map)\n",
    "    processed_array[i] = text_vector\n",
    "    i=i+1\n",
    "  return processed_array\n"
   ]
  },
  {
   "cell_type": "code",
   "execution_count": 25,
   "metadata": {
    "id": "u86if3kp8MHr"
   },
   "outputs": [],
   "source": [
    "x_train_final = prepare_data(x_train)"
   ]
  },
  {
   "cell_type": "code",
   "execution_count": 26,
   "metadata": {
    "colab": {
     "base_uri": "https://localhost:8080/"
    },
    "id": "tZUfX2AXYtar",
    "outputId": "6c946b34-ea52-4ada-93e4-5c0a08147281"
   },
   "outputs": [
    {
     "data": {
      "text/plain": [
       "array([-8.9642000e-04, -5.8213600e-01,  2.2238000e-02, -5.8901800e-01,\n",
       "        4.8397200e-01,  9.8992000e-02,  3.4267400e-01,  3.3110680e-01,\n",
       "       -4.2823600e-01,  3.2256200e-01,  2.1748000e-01, -2.0748040e-01,\n",
       "        4.0617750e-01, -8.3620200e-02,  1.3450600e-01,  1.2027920e-01,\n",
       "        2.3890698e-01,  1.4864860e-01,  5.0004400e-01, -3.0449600e-01,\n",
       "       -6.5162108e-01,  7.5819000e-01,  4.1173800e-01,  4.5571600e-01,\n",
       "        6.0671400e-01, -9.3883600e-01, -4.1443440e-01, -3.5081200e-01,\n",
       "        6.9887880e-01, -1.8575200e-01,  1.8282200e+00,  6.5116620e-01,\n",
       "       -3.9132600e-02, -7.0278800e-01, -5.6544600e-01, -2.4926800e-02,\n",
       "       -3.1669140e-01, -4.5885180e-01, -3.4690340e-01, -6.8137600e-02,\n",
       "       -3.9323800e-01, -1.9822400e-01,  4.6925000e-01,  6.8084000e-01,\n",
       "        4.4979840e-01, -2.6578400e-01, -5.5080400e-01, -1.0886000e-01,\n",
       "       -1.5111600e-01,  2.3010600e-01])"
      ]
     },
     "execution_count": 26,
     "metadata": {
      "tags": []
     },
     "output_type": "execute_result"
    }
   ],
   "source": [
    "x_train_final[3]"
   ]
  },
  {
   "cell_type": "code",
   "execution_count": 27,
   "metadata": {
    "colab": {
     "base_uri": "https://localhost:8080/"
    },
    "id": "XvhPj0BRNBrg",
    "outputId": "c61223a5-23ec-47ee-c498-4cad395e1cc3"
   },
   "outputs": [
    {
     "data": {
      "text/plain": [
       "(12800, 50)"
      ]
     },
     "execution_count": 27,
     "metadata": {
      "tags": []
     },
     "output_type": "execute_result"
    }
   ],
   "source": [
    "x_train_final.shape"
   ]
  },
  {
   "cell_type": "code",
   "execution_count": 28,
   "metadata": {
    "id": "a4c6JAQINKXN"
   },
   "outputs": [],
   "source": [
    "x_val_final = prepare_data(x_val)"
   ]
  },
  {
   "cell_type": "code",
   "execution_count": 29,
   "metadata": {
    "colab": {
     "base_uri": "https://localhost:8080/"
    },
    "id": "_Ae_I3IPJ-AS",
    "outputId": "b6173499-ec37-4e2d-bd40-554d7119d938"
   },
   "outputs": [
    {
     "data": {
      "text/plain": [
       "(3200, 50)"
      ]
     },
     "execution_count": 29,
     "metadata": {
      "tags": []
     },
     "output_type": "execute_result"
    }
   ],
   "source": [
    "x_val_final.shape"
   ]
  },
  {
   "cell_type": "code",
   "execution_count": 103,
   "metadata": {
    "id": "TWruiKAJT487"
   },
   "outputs": [],
   "source": [
    "from scipy.special import softmax\n",
    "\n",
    "def convert_to_one_hot(Y, C):\n",
    "    Y = np.eye(C)[Y.reshape(-1)]\n",
    "    return Y\n",
    "\n",
    "def multi_logistic_model(X, Y, X_val, Y_val, learning_rate = 0.01, num_iterations = 400 ):\n",
    "    \n",
    "    np.random.seed(1)\n",
    "    lamda = 0.1\n",
    "    m = Y.shape[0]                          # number of training examples\n",
    "    n_y = 6                                 # number of classes  \n",
    "    n_h = 50                                # dimensions of the GloVe vectors \n",
    "    \n",
    "    # Initialize parameters using Xavier initialization\n",
    "    W = np.random.randn(n_h, n_y) / np.sqrt(n_h)\n",
    "    b = np.zeros((n_y,))\n",
    "    theta = np.vstack((W,b))\n",
    "  \n",
    "    X = np.hstack((X, np.ones((X.shape[0], 1), dtype=X.dtype)))\n",
    "    X_val = np.hstack((X_val, np.ones((X_val.shape[0], 1), dtype=X_val.dtype)))\n",
    "    Y_oh = convert_to_one_hot(Y, C = n_y)\n",
    "\n",
    "    step_list = [] \n",
    "    loss_list = []\n",
    "    train_accuracy_list = []\n",
    "    val_accuracy_list = []\n",
    "     \n",
    "\n",
    "\n",
    "\n",
    "    #def getLoss(w,x,y,lam):\n",
    "    #m = x.shape[0] #First we get the number of training examples\n",
    "    #y_mat = oneHotIt(y) #Next we convert the integer class coding into a one-hot representation\n",
    "    #scores = np.dot(x,w) #Then we compute raw class scores given our input and current weights\n",
    "    #prob = softmax(scores) #Next we perform a softmax on these scores to get their probabilities\n",
    "    #loss = (-1 / m) * np.sum(y_mat * np.log(prob)) + (lam/2)*np.sum(w*w) #We then find the loss of the probabilities\n",
    "    #grad = (-1 / m) * np.dot(x.T,(y_mat - prob)) + lam*w #And compute the gradient for that loss\n",
    "    #return loss,grad\n",
    "\n",
    "\n",
    "\n",
    "    for t in range(num_iterations+1):\n",
    "      z = np.dot(X,theta)\n",
    "      a = softmax(z)\n",
    "\n",
    "      cost = (-1/m)*(np.sum(Y_oh*np.log(a))) #+ (lamda/2)*np.sum(theta*theta)\n",
    "           \n",
    "      d_theta = (-1/m)*(np.dot(X.T, (Y_oh - a))) #+ lamda*theta\n",
    "\n",
    "      theta = theta - learning_rate * d_theta\n",
    "      \n",
    "      step_list.append(t) \n",
    "      loss_list.append(cost)\n",
    "          \n",
    "      train_accuracy_list.append(accuracy(X, Y, theta))\n",
    "      val_accuracy_list.append(accuracy(X_val, Y_val, theta))\n",
    "\n",
    "      if t % 50 == 0:\n",
    "        learning_rate = learning_rate/(1 + 0.001*t)\n",
    "        print('learning rate is ' + str(learning_rate))\n",
    "        print(\"Epoch: \" + str(t) + \" --- cost = \" + str(cost))\n",
    "        print(\"train_accuracy:\" + str(accuracy(X, Y, theta)))\n",
    "        print(\"val_accuracy:\" + str(accuracy(X_val, Y_val, theta)))\n",
    "      \n",
    "\n",
    "      df = pd.DataFrame({\n",
    "        'step': step_list, \n",
    "        'loss': loss_list,\n",
    "        'train_accuracy' : train_accuracy_list,\n",
    "        'val_accuracy' : val_accuracy_list\n",
    "        \n",
    "\n",
    "    })\n",
    "    return df, theta\n",
    "         \n",
    "\n",
    "def predict(X, theta):\n",
    "  m = X.shape[0]\n",
    "  pred = np.zeros((m, 1))\n",
    "  for j in range(m):                       \n",
    "        Z = np.dot(X[j],theta)\n",
    "        A = softmax(Z)\n",
    "        pred[j] = np.argmax(A)\n",
    "  return pred\n",
    "\n",
    "\n",
    "def accuracy(X, Y, theta):\n",
    "    m = X.shape[0]\n",
    "    pred = predict(X, theta)\n",
    "    Accuracy = np.mean((pred[:] == Y.reshape(Y.shape[0],1)[:]))\n",
    "    return Accuracy\n",
    "    \n",
    "\n",
    "def loss_plot(df):\n",
    "    return df.plot(\n",
    "            x='step', \n",
    "            y='loss',\n",
    "            xlabel='step',\n",
    "            ylabel='loss'\n",
    "        )  \n",
    "    \n",
    "def accuracy_plot(df):\n",
    "    return df.plot(\n",
    "            x='step', \n",
    "            y=['train_accuracy', 'val_accuracy'],\n",
    "            xlabel='step',\n",
    "            ylabel='Accuracy'\n",
    "        )  "
   ]
  },
  {
   "cell_type": "code",
   "execution_count": null,
   "metadata": {
    "colab": {
     "base_uri": "https://localhost:8080/"
    },
    "id": "09t0qj8IT5Ts",
    "outputId": "f99757bd-2d5c-4938-f2b0-a893f49310ca"
   },
   "outputs": [
    {
     "name": "stdout",
     "output_type": "stream",
     "text": [
      "learning rate is 0.001\n",
      "Epoch: 0 --- cost = 11.377878939316568\n",
      "train_accuracy:0.136796875\n",
      "val_accuracy:0.1359375\n",
      "learning rate is 0.0009523809523809524\n",
      "Epoch: 50 --- cost = 11.333436826629795\n",
      "train_accuracy:0.144375\n",
      "val_accuracy:0.1375\n",
      "learning rate is 0.0008658008658008657\n",
      "Epoch: 100 --- cost = 11.294313695337012\n",
      "train_accuracy:0.1571875\n",
      "val_accuracy:0.1453125\n",
      "learning rate is 0.0007528703180877094\n",
      "Epoch: 150 --- cost = 11.261571079392834\n",
      "train_accuracy:0.171015625\n",
      "val_accuracy:0.16625\n",
      "learning rate is 0.0006273919317397579\n",
      "Epoch: 200 --- cost = 11.235359290626564\n",
      "train_accuracy:0.19109375\n",
      "val_accuracy:0.186875\n",
      "learning rate is 0.0005019135453918063\n",
      "Epoch: 250 --- cost = 11.215164140999764\n",
      "train_accuracy:0.205\n",
      "val_accuracy:0.1984375\n",
      "learning rate is 0.0003860873426090817\n",
      "Epoch: 300 --- cost = 11.200107351668315\n",
      "train_accuracy:0.219921875\n",
      "val_accuracy:0.210625\n",
      "learning rate is 0.0002859906241548753\n",
      "Epoch: 350 --- cost = 11.189198757718549\n",
      "train_accuracy:0.229296875\n",
      "val_accuracy:0.2240625\n",
      "learning rate is 0.0002042790172534824\n",
      "Epoch: 400 --- cost = 11.181498743142672\n",
      "train_accuracy:0.236015625\n",
      "val_accuracy:0.23125\n",
      "learning rate is 0.0001408820808644706\n",
      "Epoch: 450 --- cost = 11.176197394949627\n",
      "train_accuracy:0.241171875\n",
      "val_accuracy:0.2375\n",
      "learning rate is 9.392138724298041e-05\n",
      "Epoch: 500 --- cost = 11.172637404375214\n",
      "train_accuracy:0.245390625\n",
      "val_accuracy:0.240625\n",
      "learning rate is 6.0594443382568e-05\n",
      "Epoch: 550 --- cost = 11.170307178529487\n",
      "train_accuracy:0.248359375\n",
      "val_accuracy:0.2453125\n",
      "learning rate is 3.7871527114105e-05\n",
      "Epoch: 600 --- cost = 11.168821690479392\n",
      "train_accuracy:0.25015625\n",
      "val_accuracy:0.24875\n",
      "learning rate is 2.2952440675215153e-05\n",
      "Epoch: 650 --- cost = 11.167900082099615\n",
      "train_accuracy:0.251171875\n",
      "val_accuracy:0.2484375\n",
      "learning rate is 1.350143569130303e-05\n",
      "Epoch: 700 --- cost = 11.16734388514019\n",
      "train_accuracy:0.251484375\n",
      "val_accuracy:0.24875\n",
      "learning rate is 7.715106109316017e-06\n",
      "Epoch: 750 --- cost = 11.167017414292804\n",
      "train_accuracy:0.25203125\n",
      "val_accuracy:0.249375\n",
      "learning rate is 4.286170060731121e-06\n",
      "Epoch: 800 --- cost = 11.166831017800517\n",
      "train_accuracy:0.25234375\n",
      "val_accuracy:0.2490625\n",
      "learning rate is 2.3168486814762814e-06\n",
      "Epoch: 850 --- cost = 11.166727469953722\n",
      "train_accuracy:0.252421875\n",
      "val_accuracy:0.249375\n",
      "learning rate is 1.2193940428822533e-06\n",
      "Epoch: 900 --- cost = 11.166671475174915\n",
      "train_accuracy:0.252421875\n",
      "val_accuracy:0.249375\n",
      "learning rate is 6.253302784011555e-07\n",
      "Epoch: 950 --- cost = 11.16664198433237\n",
      "train_accuracy:0.25234375\n",
      "val_accuracy:0.249375\n",
      "learning rate is 3.126651392005778e-07\n",
      "Epoch: 1000 --- cost = 11.16662684839902\n",
      "train_accuracy:0.252421875\n",
      "val_accuracy:0.249375\n",
      "learning rate is 1.5251958009784282e-07\n",
      "Epoch: 1050 --- cost = 11.166619273624942\n",
      "train_accuracy:0.252578125\n",
      "val_accuracy:0.249375\n",
      "learning rate is 7.262837147516324e-08\n",
      "Epoch: 1100 --- cost = 11.166615575140794\n",
      "train_accuracy:0.252578125\n",
      "val_accuracy:0.249375\n",
      "learning rate is 3.378063789542476e-08\n",
      "Epoch: 1150 --- cost = 11.16661381226758\n",
      "train_accuracy:0.252578125\n",
      "val_accuracy:0.249375\n",
      "learning rate is 1.535483540701125e-08\n",
      "Epoch: 1200 --- cost = 11.166612991531897\n",
      "train_accuracy:0.252578125\n",
      "val_accuracy:0.249375\n",
      "learning rate is 6.8243712920050004e-09\n",
      "Epoch: 1250 --- cost = 11.166612618107155\n",
      "train_accuracy:0.252578125\n",
      "val_accuracy:0.249375\n",
      "learning rate is 2.9671179530456527e-09\n",
      "Epoch: 1300 --- cost = 11.16661245197885\n",
      "train_accuracy:0.252578125\n",
      "val_accuracy:0.249375\n",
      "learning rate is 1.2626033842747459e-09\n",
      "Epoch: 1350 --- cost = 11.166612379678746\n",
      "train_accuracy:0.252578125\n",
      "val_accuracy:0.249375\n"
     ]
    }
   ],
   "source": [
    "df, theta_final = multi_logistic_model(x_train_final, y_train, x_val_final, y_val, learning_rate = 0.001, num_iterations = 5000)"
   ]
  },
  {
   "cell_type": "code",
   "execution_count": 105,
   "metadata": {
    "colab": {
     "base_uri": "https://localhost:8080/",
     "height": 296
    },
    "id": "RJsdg9lXVoEm",
    "outputId": "b0763379-e54a-4c17-8e11-bd43d2c38686"
   },
   "outputs": [
    {
     "data": {
      "text/plain": [
       "<matplotlib.axes._subplots.AxesSubplot at 0x7fad6af50990>"
      ]
     },
     "execution_count": 105,
     "metadata": {
      "tags": []
     },
     "output_type": "execute_result"
    },
    {
     "data": {
      "image/png": "[encoded data removed]",
      "text/plain": [
       "<Figure size 432x288 with 1 Axes>"
      ]
     },
     "metadata": {
      "needs_background": "light",
      "tags": []
     },
     "output_type": "display_data"
    }
   ],
   "source": [
    "loss_plot(df)"
   ]
  },
  {
   "cell_type": "code",
   "execution_count": 106,
   "metadata": {
    "colab": {
     "base_uri": "https://localhost:8080/",
     "height": 296
    },
    "id": "nQGnU9iGIMOE",
    "outputId": "678709ce-3a08-4d0b-dbad-4f14761bb9e4"
   },
   "outputs": [
    {
     "data": {
      "text/plain": [
       "<matplotlib.axes._subplots.AxesSubplot at 0x7fad6ae45e50>"
      ]
     },
     "execution_count": 106,
     "metadata": {
      "tags": []
     },
     "output_type": "execute_result"
    },
    {
     "data": {
      "image/png": "[encoded data removed]",
      "text/plain": [
       "<Figure size 432x288 with 1 Axes>"
      ]
     },
     "metadata": {
      "needs_background": "light",
      "tags": []
     },
     "output_type": "display_data"
    }
   ],
   "source": [
    "accuracy_plot(df)"
   ]
  },
  {
   "cell_type": "code",
   "execution_count": 107,
   "metadata": {
    "colab": {
     "base_uri": "https://localhost:8080/"
    },
    "id": "JqWt6wAyEcDI",
    "outputId": "b35120bb-0c0b-4c43-e874-23cbb1907464"
   },
   "outputs": [
    {
     "data": {
      "text/plain": [
       "(51, 6)"
      ]
     },
     "execution_count": 107,
     "metadata": {
      "tags": []
     },
     "output_type": "execute_result"
    }
   ],
   "source": [
    "theta_final.shape"
   ]
  },
  {
   "cell_type": "code",
   "execution_count": 108,
   "metadata": {
    "colab": {
     "base_uri": "https://localhost:8080/"
    },
    "id": "Y6M5QIorEcHt",
    "outputId": "173716ba-4b63-4e9e-a3db-a2a960036260"
   },
   "outputs": [
    {
     "name": "stdout",
     "output_type": "stream",
     "text": [
      "[[ 0.24202148 -0.08139638 -0.07088833 -0.15004827  0.12945679 -0.31165244]\n",
      " [ 0.23664417 -0.11347452  0.04764656 -0.03563769  0.20200055 -0.28680133]\n",
      " [-0.0520148  -0.05697426  0.15633452 -0.15631796 -0.02465408 -0.13584248]\n",
      " [-0.02822528  0.06588298 -0.16479994  0.15854617  0.11335344  0.03903632]\n",
      " [ 0.15971953 -0.08250988 -0.00620497 -0.12767298 -0.02356477  0.11983296]\n",
      " [-0.09983789 -0.05669003 -0.09649617 -0.12043096 -0.09739373 -0.01070704]\n",
      " [-0.17557737  0.02583504  0.2284992   0.10211294 -0.03552418 -0.153052  ]\n",
      " [-0.07793533  0.25154649  0.01190867 -0.0873684   0.03963448  0.31685153]\n",
      " [-0.00891413  0.07339265  0.03636967 -0.0528459  -0.17245014 -0.07285795]\n",
      " [-0.00644327  0.09367191  0.12612597  0.1345413   0.04870154  0.15538725]\n",
      " [-0.11108706  0.17527564  0.0710948  -0.04289357  0.06820729 -0.0144014 ]\n",
      " [ 0.16865174  0.21987381  0.31304388 -0.19652752 -0.20152769 -0.05942233]\n",
      " [ 0.00099325  0.1144706   0.04209755 -0.28869665 -0.05186885  0.09817869]\n",
      " [ 0.03266338  0.10763979 -0.03113091 -0.02845619  0.02728558  0.0602702 ]\n",
      " [ 0.07101142  0.03460858 -0.08533743  0.0586576   0.03345925  0.20116213]\n",
      " [ 0.19139413  0.0360032  -0.04812991 -0.08812929  0.07048101  0.03354343]\n",
      " [-0.03659707  0.01170265 -0.08408299  0.10014842 -0.05841246  0.1935195 ]\n",
      " [ 0.06285511  0.08778335 -0.15217951  0.02490677  0.10657209 -0.12671556]\n",
      " [-0.03168659  0.0077277  -0.19229481  0.04428544  0.12164256 -0.11816736]\n",
      " [ 0.01219826 -0.20339631 -0.0167272  -0.23378933  0.14231072  0.00902573]\n",
      " [-0.03274235 -0.12298639  0.17359723  0.27523844 -0.27409094  0.14988055]\n",
      " [ 0.27525164  0.06845077 -0.15673043  0.12788506 -0.00649962 -0.03701053]\n",
      " [-0.15402017  0.08767167  0.1172663  -0.08578603  0.08159299 -0.14358323]\n",
      " [ 0.13052305  0.01649867 -0.02206258 -0.01215716  0.1312948   0.12275181]\n",
      " [ 0.12446232  0.04241577  0.02437743  0.09444046  0.05421123  0.15035085]\n",
      " [-0.14616826 -0.39339985  0.11902592  0.29689457  0.01914498 -0.12883826]\n",
      " [-0.06620116 -0.03653092 -0.011011   -0.16540442 -0.09099624 -0.19558093]\n",
      " [ 0.06071682 -0.03118313  0.07553993 -0.02181812  0.14892562  0.05043932]\n",
      " [ 0.36571416 -0.24385251 -0.0776976   0.13327199  0.37908637  0.01820867]\n",
      " [-0.01417435 -0.04149075  0.18166157 -0.04379675  0.08821957 -0.07147948]\n",
      " [ 0.01804777  0.13228177  0.12745081  0.20715332  0.06716366  0.1518275 ]\n",
      " [ 0.11938013  0.05240475  0.05064001 -0.00597344  0.18041074  0.0978939 ]\n",
      " [ 0.2790227   0.16020585  0.09300422 -0.22873689  0.08932489  0.0590508 ]\n",
      " [ 0.09372713  0.13799249 -0.06167219  0.11317006 -0.0904516   0.25170863]\n",
      " [-0.20691456 -0.25887017 -0.2377677  -0.1281017  -0.16558327  0.2625298 ]\n",
      " [-0.050228   -0.19372673  0.15601017 -0.0839017  -0.17815993  0.11582068]\n",
      " [ 0.08803481 -0.0636184   0.19724396  0.01802058  0.22677255  0.06962818]\n",
      " [ 0.22762203  0.01699378 -0.17008553  0.34757851 -0.07527327 -0.00987856]\n",
      " [-0.09550904 -0.02973636  0.03373635  0.02850996  0.09395511  0.24750933]\n",
      " [-0.05197353 -0.18866852 -0.17680504 -0.09811768 -0.25120573  0.07812823]\n",
      " [-0.09050003 -0.05159717 -0.00324483 -0.19917177 -0.13022138  0.08066507]\n",
      " [ 0.08134805 -0.06361759  0.25487734 -0.18496594 -0.05101728 -0.03952626]\n",
      " [-0.39154451  0.27433782  0.05127577 -0.14784272  0.29167184  0.08194117]\n",
      " [ 0.09429003 -0.06928484  0.02264725 -0.2122688   0.12633953 -0.02078223]\n",
      " [ 0.03086243  0.17795858  0.04419275  0.0387531   0.04541077 -0.0924401 ]\n",
      " [ 0.1259687   0.21943679  0.10980846  0.12628435 -0.12222638 -0.11436342]\n",
      " [-0.22237852  0.16500631 -0.04069608  0.19643985 -0.11700536 -0.08013353]\n",
      " [ 0.00568271  0.12608462  0.00435977  0.02887308 -0.00092697  0.01658091]\n",
      " [-0.16048805  0.00932341 -0.02931526 -0.00874187  0.06761242 -0.10432053]\n",
      " [ 0.00841057 -0.03233808  0.06448552  0.1138838  -0.12656453  0.11057782]\n",
      " [ 0.08723362  0.04035405  0.02437222  0.01069996  0.03619481  0.10025201]]\n"
     ]
    }
   ],
   "source": [
    "print(theta_final)"
   ]
  },
  {
   "cell_type": "code",
   "execution_count": null,
   "metadata": {
    "id": "2tLVo0sbCR9a"
   },
   "outputs": [],
   "source": []
  },
  {
   "cell_type": "code",
   "execution_count": null,
   "metadata": {
    "id": "WUGHtsHkCSAG"
   },
   "outputs": [],
   "source": []
  },
  {
   "cell_type": "code",
   "execution_count": 112,
   "metadata": {
    "colab": {
     "base_uri": "https://localhost:8080/"
    },
    "id": "PW61dtbQVoHB",
    "outputId": "8da23f24-8df5-4dec-9003-e51befda34f4"
   },
   "outputs": [
    {
     "data": {
      "text/plain": [
       "(50,)"
      ]
     },
     "execution_count": 112,
     "metadata": {
      "tags": []
     },
     "output_type": "execute_result"
    }
   ],
   "source": [
    "## Predict emotion \n",
    "input_string = \"i feel very angry today\"\n",
    "processed_text = process_text(input_string)\n",
    "X = text_to_vec(processed_text, word_to_vec_map)\n",
    "X.shape\n"
   ]
  },
  {
   "cell_type": "code",
   "execution_count": 115,
   "metadata": {
    "colab": {
     "base_uri": "https://localhost:8080/",
     "height": 215
    },
    "id": "A_4XhAm8Bk_q",
    "outputId": "bcb2c9c7-1fb6-4d3a-85e4-f29d6ed34eea"
   },
   "outputs": [
    {
     "ename": "TypeError",
     "evalue": "ignored",
     "output_type": "error",
     "traceback": [
      "\u001b[0;31m---------------------------------------------------------------------------\u001b[0m",
      "\u001b[0;31mTypeError\u001b[0m                                 Traceback (most recent call last)",
      "\u001b[0;32m<ipython-input-115-255a988bd307>\u001b[0m in \u001b[0;36m<module>\u001b[0;34m()\u001b[0m\n\u001b[0;32m----> 1\u001b[0;31m \u001b[0mnp\u001b[0m\u001b[0;34m.\u001b[0m\u001b[0minsert\u001b[0m\u001b[0;34m(\u001b[0m\u001b[0mX\u001b[0m\u001b[0;34m,\u001b[0m\u001b[0;36m1\u001b[0m\u001b[0;34m)\u001b[0m\u001b[0;34m\u001b[0m\u001b[0;34m\u001b[0m\u001b[0m\n\u001b[0m\u001b[1;32m      2\u001b[0m \u001b[0mX\u001b[0m\u001b[0;34m.\u001b[0m\u001b[0mshape\u001b[0m\u001b[0;34m\u001b[0m\u001b[0;34m\u001b[0m\u001b[0m\n",
      "\u001b[0;32m<__array_function__ internals>\u001b[0m in \u001b[0;36minsert\u001b[0;34m(*args, **kwargs)\u001b[0m\n",
      "\u001b[0;31mTypeError\u001b[0m: _insert_dispatcher() missing 1 required positional argument: 'values'"
     ]
    }
   ],
   "source": [
    "np.insert(X,1)\n",
    "X.shape"
   ]
  },
  {
   "cell_type": "code",
   "execution_count": null,
   "metadata": {
    "id": "WgMunMxEBlCa"
   },
   "outputs": [],
   "source": [
    "prediction = predict(X, theta_final)\n",
    "print(prediction)\n",
    "labels = {'sadness': 0, 'anger': 1, 'love': 2, 'surprise': 3, 'fear': 4, 'joy': 5}\n",
    "for key, value in labels.items():\n",
    "  if prediction == value:\n",
    "    print(\"predicted emotion is \" + str(key))"
   ]
  },
  {
   "cell_type": "code",
   "execution_count": null,
   "metadata": {
    "id": "PIkC7jCmBlE_"
   },
   "outputs": [],
   "source": []
  },
  {
   "cell_type": "code",
   "execution_count": null,
   "metadata": {
    "id": "BURhrtokBlHq"
   },
   "outputs": [],
   "source": []
  },
  {
   "cell_type": "code",
   "execution_count": null,
   "metadata": {
    "id": "AVcDx0euBlKZ"
   },
   "outputs": [],
   "source": []
  },
  {
   "cell_type": "code",
   "execution_count": 116,
   "metadata": {
    "id": "v-gBT9DBVoJb"
   },
   "outputs": [],
   "source": [
    "np.savetxt('theta.txt', theta_final)"
   ]
  },
  {
   "cell_type": "code",
   "execution_count": null,
   "metadata": {
    "id": "W-N_M_0xVoME"
   },
   "outputs": [],
   "source": []
  },
  {
   "cell_type": "code",
   "execution_count": null,
   "metadata": {
    "id": "Tr4AvRhSVoOk"
   },
   "outputs": [],
   "source": []
  },
  {
   "cell_type": "code",
   "execution_count": null,
   "metadata": {
    "id": "IlK3974YVoRU"
   },
   "outputs": [],
   "source": []
  }
 ],
 "metadata": {
  "accelerator": "TPU",
  "colab": {
   "collapsed_sections": [],
   "name": "Sentiment_Analysis_Multiclass_Logistic_Regression.ipynb",
   "provenance": [],
   "toc_visible": true
  },
  "kernelspec": {
   "display_name": "Python 3",
   "language": "python",
   "name": "python3"
  },
  "language_info": {
   "codemirror_mode": {
    "name": "ipython",
    "version": 3
   },
   "file_extension": ".py",
   "mimetype": "text/x-python",
   "name": "python",
   "nbconvert_exporter": "python",
   "pygments_lexer": "ipython3",
   "version": "3.8.5"
  }
 },
 "nbformat": 4,
 "nbformat_minor": 1
}
