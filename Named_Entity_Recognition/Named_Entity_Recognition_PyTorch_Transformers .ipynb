{
  "nbformat": 4,
  "nbformat_minor": 0,
  "metadata": {
    "colab": {
      "name": "Named_Entity_Recognition_PyTorch_Transformers.ipynb",
      "provenance": [],
      "toc_visible": true
    },
    "kernelspec": {
      "display_name": "Python 3",
      "name": "python3"
    },
    "language_info": {
      "name": "python"
    },
    "accelerator": "GPU"
  },
  "cells": [
    {
      "cell_type": "code",
      "metadata": {
        "colab": {
          "base_uri": "https://localhost:8080/"
        },
        "id": "doGOemX5kkmZ",
        "outputId": "57d52588-d11e-4a88-a835-49ccec8e88d2"
      },
      "source": [
        "from google.colab import drive\n",
        "drive.mount('/content/drive')\n",
        "import os\n",
        "os.chdir(\"/content/drive/MyDrive/DATA\")\n",
        "!ls"
      ],
      "execution_count": 1,
      "outputs": [
        {
          "output_type": "stream",
          "text": [
            "Mounted at /content/drive\n",
            "Emotions.txt\t   ner.csv\t\t\t   special_tokens_map.json\n",
            "glove.6B.200d.txt  ner_dataset.csv\t\t   theta.txt\n",
            "glove.6B.50d.txt   NHC_data_Biju.xlsx\t\t   tokenizer_config.json\n",
            "model_100.pth\t   Quora_question_pairs_test.csv   vocab.txt\n",
            "model.png\t   Quora_question_pairs_train.csv\n"
          ],
          "name": "stdout"
        }
      ]
    },
    {
      "cell_type": "code",
      "metadata": {
        "id": "WmvOalFbs2WL"
      },
      "source": [
        "import numpy as np\n",
        "import pandas as pd\n",
        "import math\n",
        "import torch\n",
        "from torch.utils import data"
      ],
      "execution_count": 2,
      "outputs": []
    },
    {
      "cell_type": "markdown",
      "metadata": {
        "id": "CNAMfp3p1UET"
      },
      "source": [
        "# Load the dataset"
      ]
    },
    {
      "cell_type": "code",
      "metadata": {
        "id": "bOpAFgtkksjV"
      },
      "source": [
        "df = pd.read_csv('ner_dataset.csv', encoding= 'unicode_escape')"
      ],
      "execution_count": 3,
      "outputs": []
    },
    {
      "cell_type": "code",
      "metadata": {
        "id": "FUWTPIz8ksy1",
        "colab": {
          "base_uri": "https://localhost:8080/",
          "height": 204
        },
        "outputId": "f34c6091-4618-4167-cd68-0cc2104610c5"
      },
      "source": [
        "df.head()"
      ],
      "execution_count": 4,
      "outputs": [
        {
          "output_type": "execute_result",
          "data": {
            "text/html": [
              "<div>\n",
              "<style scoped>\n",
              "    .dataframe tbody tr th:only-of-type {\n",
              "        vertical-align: middle;\n",
              "    }\n",
              "\n",
              "    .dataframe tbody tr th {\n",
              "        vertical-align: top;\n",
              "    }\n",
              "\n",
              "    .dataframe thead th {\n",
              "        text-align: right;\n",
              "    }\n",
              "</style>\n",
              "<table border=\"1\" class=\"dataframe\">\n",
              "  <thead>\n",
              "    <tr style=\"text-align: right;\">\n",
              "      <th></th>\n",
              "      <th>Sentence #</th>\n",
              "      <th>Word</th>\n",
              "      <th>POS</th>\n",
              "      <th>Tag</th>\n",
              "    </tr>\n",
              "  </thead>\n",
              "  <tbody>\n",
              "    <tr>\n",
              "      <th>0</th>\n",
              "      <td>Sentence: 1</td>\n",
              "      <td>Thousands</td>\n",
              "      <td>NNS</td>\n",
              "      <td>O</td>\n",
              "    </tr>\n",
              "    <tr>\n",
              "      <th>1</th>\n",
              "      <td>NaN</td>\n",
              "      <td>of</td>\n",
              "      <td>IN</td>\n",
              "      <td>O</td>\n",
              "    </tr>\n",
              "    <tr>\n",
              "      <th>2</th>\n",
              "      <td>NaN</td>\n",
              "      <td>demonstrators</td>\n",
              "      <td>NNS</td>\n",
              "      <td>O</td>\n",
              "    </tr>\n",
              "    <tr>\n",
              "      <th>3</th>\n",
              "      <td>NaN</td>\n",
              "      <td>have</td>\n",
              "      <td>VBP</td>\n",
              "      <td>O</td>\n",
              "    </tr>\n",
              "    <tr>\n",
              "      <th>4</th>\n",
              "      <td>NaN</td>\n",
              "      <td>marched</td>\n",
              "      <td>VBN</td>\n",
              "      <td>O</td>\n",
              "    </tr>\n",
              "  </tbody>\n",
              "</table>\n",
              "</div>"
            ],
            "text/plain": [
              "    Sentence #           Word  POS Tag\n",
              "0  Sentence: 1      Thousands  NNS   O\n",
              "1          NaN             of   IN   O\n",
              "2          NaN  demonstrators  NNS   O\n",
              "3          NaN           have  VBP   O\n",
              "4          NaN        marched  VBN   O"
            ]
          },
          "metadata": {
            "tags": []
          },
          "execution_count": 4
        }
      ]
    },
    {
      "cell_type": "code",
      "metadata": {
        "id": "nx4U6B2eqkDt"
      },
      "source": [
        "count_tags = df['Tag'].value_counts()"
      ],
      "execution_count": 5,
      "outputs": []
    },
    {
      "cell_type": "code",
      "metadata": {
        "colab": {
          "base_uri": "https://localhost:8080/"
        },
        "id": "W71ASbVzaS7p",
        "outputId": "6bf6adcc-10da-4cf5-8df8-3dd7b1b85425"
      },
      "source": [
        "count_tags"
      ],
      "execution_count": 6,
      "outputs": [
        {
          "output_type": "execute_result",
          "data": {
            "text/plain": [
              "O        887908\n",
              "B-geo     37644\n",
              "B-tim     20333\n",
              "B-org     20143\n",
              "I-per     17251\n",
              "B-per     16990\n",
              "I-org     16784\n",
              "B-gpe     15870\n",
              "I-geo      7414\n",
              "I-tim      6528\n",
              "B-art       402\n",
              "B-eve       308\n",
              "I-art       297\n",
              "I-eve       253\n",
              "B-nat       201\n",
              "I-gpe       198\n",
              "I-nat        51\n",
              "Name: Tag, dtype: int64"
            ]
          },
          "metadata": {
            "tags": []
          },
          "execution_count": 6
        }
      ]
    },
    {
      "cell_type": "code",
      "metadata": {
        "colab": {
          "base_uri": "https://localhost:8080/"
        },
        "id": "z2AoUOPjZU4j",
        "outputId": "3c83420c-deff-4a7e-c0fb-4e01e127d99f"
      },
      "source": [
        "count_tags['O'] + count_tags[\"B-gpe\"]"
      ],
      "execution_count": 7,
      "outputs": [
        {
          "output_type": "execute_result",
          "data": {
            "text/plain": [
              "903778"
            ]
          },
          "metadata": {
            "tags": []
          },
          "execution_count": 7
        }
      ]
    },
    {
      "cell_type": "code",
      "metadata": {
        "id": "-6DMGD8D_w1H"
      },
      "source": [
        "import string\n",
        "df['Word'] = df['Word'].str.translate(str.maketrans('','',string.punctuation))\n",
        "df['Word'] = df['Word'].str.lower()\n"
      ],
      "execution_count": 8,
      "outputs": []
    },
    {
      "cell_type": "markdown",
      "metadata": {
        "id": "Hp_LNGT3CilR"
      },
      "source": [
        "# Embedding"
      ]
    },
    {
      "cell_type": "code",
      "metadata": {
        "id": "lzkXgliCCdra"
      },
      "source": [
        "## upload word emebedding file on google drive\n",
        "def read_glove_vecs(glove_file):\n",
        "    with open(glove_file, 'r') as f:\n",
        "        words = set()\n",
        "        word_to_vec_map = {}\n",
        "        for line in f:\n",
        "            line = line.strip().split()\n",
        "            curr_word = line[0]\n",
        "            words.add(curr_word)\n",
        "            word_to_vec_map[curr_word] = np.array(line[1:], dtype=np.float64)\n",
        "        \n",
        "        i = 1\n",
        "        words_to_index = {}\n",
        "        index_to_words = {}\n",
        "        for w in sorted(words):\n",
        "            words_to_index[w] = i\n",
        "            index_to_words[i] = w\n",
        "            i = i + 1\n",
        "    return words, words_to_index, index_to_words, word_to_vec_map"
      ],
      "execution_count": 9,
      "outputs": []
    },
    {
      "cell_type": "code",
      "metadata": {
        "id": "0LmDGbRXCduM"
      },
      "source": [
        "words, word_to_index, index_to_word, word_to_vec_map = read_glove_vecs('glove.6B.50d.txt')"
      ],
      "execution_count": 10,
      "outputs": []
    },
    {
      "cell_type": "code",
      "metadata": {
        "colab": {
          "base_uri": "https://localhost:8080/"
        },
        "id": "s63a8gX9Cdww",
        "outputId": "9f21d1c8-55a9-4d75-c9ee-ff61be6466e3"
      },
      "source": [
        "vocab_len = len(word_to_index) + 2            \n",
        "emb_dim = word_to_vec_map[\"cucumber\"].shape[0]  \n",
        "emb_matrix = np.zeros((vocab_len, emb_dim))\n",
        "for word, index in word_to_index.items():\n",
        "    emb_matrix[index, :] = word_to_vec_map[word]\n",
        "print(emb_matrix.shape)"
      ],
      "execution_count": 11,
      "outputs": [
        {
          "output_type": "stream",
          "text": [
            "(400002, 50)\n"
          ],
          "name": "stdout"
        }
      ]
    },
    {
      "cell_type": "markdown",
      "metadata": {
        "id": "1UmVu7Sv1fG5"
      },
      "source": [
        "# Extract mappings"
      ]
    },
    {
      "cell_type": "code",
      "metadata": {
        "id": "C0VxQ7Z6lP9s"
      },
      "source": [
        "from itertools import chain\n",
        "def get_dict_map(data, token_or_tag):\n",
        "    tok2idx = {}\n",
        "    idx2tok = {}\n",
        "    \n",
        "    if token_or_tag == 'token':\n",
        "        n=2\n",
        "        vocab = list(set(data['Word'].to_list()))\n",
        "    else:\n",
        "        n=0\n",
        "        vocab = list(set(data['Tag'].to_list()))\n",
        "\n",
        "\n",
        "    idx2tok = {idx:tok for  idx, tok in enumerate(vocab, n)}\n",
        "    tok2idx = {tok:idx for  idx, tok in enumerate(vocab, n)}\n",
        "    return tok2idx, idx2tok"
      ],
      "execution_count": 12,
      "outputs": []
    },
    {
      "cell_type": "code",
      "metadata": {
        "id": "1YGvBLrHlYOa"
      },
      "source": [
        "token2idx, idx2token = get_dict_map(df, 'token')\n",
        "tag2idx, idx2tag = get_dict_map(df, 'tag')"
      ],
      "execution_count": 13,
      "outputs": []
    },
    {
      "cell_type": "code",
      "metadata": {
        "id": "mKvaPo8r3wJm"
      },
      "source": [
        "token2idx['<PAD>'] = 1\n",
        "idx2token[1] = '<PAD>'"
      ],
      "execution_count": 14,
      "outputs": []
    },
    {
      "cell_type": "code",
      "metadata": {
        "id": "c1mjoDlZ4zmS"
      },
      "source": [
        "token2idx['UNK'] = 0\n",
        "idx2token[0] = '<UNK>'"
      ],
      "execution_count": 15,
      "outputs": []
    },
    {
      "cell_type": "code",
      "metadata": {
        "id": "YSi3hamylYXe",
        "colab": {
          "base_uri": "https://localhost:8080/",
          "height": 204
        },
        "outputId": "4915a341-a05b-45b7-d07d-256b76ba7fff"
      },
      "source": [
        "df['Word_idx'] = df['Word'].map(word_to_index)\n",
        "df['Tag_idx'] = df['Tag'].map(tag2idx)\n",
        "df.head()"
      ],
      "execution_count": 16,
      "outputs": [
        {
          "output_type": "execute_result",
          "data": {
            "text/html": [
              "<div>\n",
              "<style scoped>\n",
              "    .dataframe tbody tr th:only-of-type {\n",
              "        vertical-align: middle;\n",
              "    }\n",
              "\n",
              "    .dataframe tbody tr th {\n",
              "        vertical-align: top;\n",
              "    }\n",
              "\n",
              "    .dataframe thead th {\n",
              "        text-align: right;\n",
              "    }\n",
              "</style>\n",
              "<table border=\"1\" class=\"dataframe\">\n",
              "  <thead>\n",
              "    <tr style=\"text-align: right;\">\n",
              "      <th></th>\n",
              "      <th>Sentence #</th>\n",
              "      <th>Word</th>\n",
              "      <th>POS</th>\n",
              "      <th>Tag</th>\n",
              "      <th>Word_idx</th>\n",
              "      <th>Tag_idx</th>\n",
              "    </tr>\n",
              "  </thead>\n",
              "  <tbody>\n",
              "    <tr>\n",
              "      <th>0</th>\n",
              "      <td>Sentence: 1</td>\n",
              "      <td>thousands</td>\n",
              "      <td>NNS</td>\n",
              "      <td>O</td>\n",
              "      <td>358481.0</td>\n",
              "      <td>8</td>\n",
              "    </tr>\n",
              "    <tr>\n",
              "      <th>1</th>\n",
              "      <td>NaN</td>\n",
              "      <td>of</td>\n",
              "      <td>IN</td>\n",
              "      <td>O</td>\n",
              "      <td>268046.0</td>\n",
              "      <td>8</td>\n",
              "    </tr>\n",
              "    <tr>\n",
              "      <th>2</th>\n",
              "      <td>NaN</td>\n",
              "      <td>demonstrators</td>\n",
              "      <td>NNS</td>\n",
              "      <td>O</td>\n",
              "      <td>120649.0</td>\n",
              "      <td>8</td>\n",
              "    </tr>\n",
              "    <tr>\n",
              "      <th>3</th>\n",
              "      <td>NaN</td>\n",
              "      <td>have</td>\n",
              "      <td>VBP</td>\n",
              "      <td>O</td>\n",
              "      <td>174642.0</td>\n",
              "      <td>8</td>\n",
              "    </tr>\n",
              "    <tr>\n",
              "      <th>4</th>\n",
              "      <td>NaN</td>\n",
              "      <td>marched</td>\n",
              "      <td>VBN</td>\n",
              "      <td>O</td>\n",
              "      <td>234138.0</td>\n",
              "      <td>8</td>\n",
              "    </tr>\n",
              "  </tbody>\n",
              "</table>\n",
              "</div>"
            ],
            "text/plain": [
              "    Sentence #           Word  POS Tag  Word_idx  Tag_idx\n",
              "0  Sentence: 1      thousands  NNS   O  358481.0        8\n",
              "1          NaN             of   IN   O  268046.0        8\n",
              "2          NaN  demonstrators  NNS   O  120649.0        8\n",
              "3          NaN           have  VBP   O  174642.0        8\n",
              "4          NaN        marched  VBN   O  234138.0        8"
            ]
          },
          "metadata": {
            "tags": []
          },
          "execution_count": 16
        }
      ]
    },
    {
      "cell_type": "code",
      "metadata": {
        "id": "J3fyFgIfCFQN"
      },
      "source": [
        "unique_tokens = len(word_to_index) # len(list(set(data['Word'].to_list())))\n",
        "unique_tags = len(list(set(df['Tag'].to_list())))"
      ],
      "execution_count": 17,
      "outputs": []
    },
    {
      "cell_type": "code",
      "metadata": {
        "id": "onbSUp4mpG-7"
      },
      "source": [
        "df_fill = df.fillna(method='ffill', axis=0)"
      ],
      "execution_count": 18,
      "outputs": []
    },
    {
      "cell_type": "code",
      "metadata": {
        "id": "y-9Eh6dipWKU",
        "colab": {
          "base_uri": "https://localhost:8080/",
          "height": 204
        },
        "outputId": "9e513fd2-7b00-4a22-af08-e5231ba3a045"
      },
      "source": [
        "df_fill.head()"
      ],
      "execution_count": 19,
      "outputs": [
        {
          "output_type": "execute_result",
          "data": {
            "text/html": [
              "<div>\n",
              "<style scoped>\n",
              "    .dataframe tbody tr th:only-of-type {\n",
              "        vertical-align: middle;\n",
              "    }\n",
              "\n",
              "    .dataframe tbody tr th {\n",
              "        vertical-align: top;\n",
              "    }\n",
              "\n",
              "    .dataframe thead th {\n",
              "        text-align: right;\n",
              "    }\n",
              "</style>\n",
              "<table border=\"1\" class=\"dataframe\">\n",
              "  <thead>\n",
              "    <tr style=\"text-align: right;\">\n",
              "      <th></th>\n",
              "      <th>Sentence #</th>\n",
              "      <th>Word</th>\n",
              "      <th>POS</th>\n",
              "      <th>Tag</th>\n",
              "      <th>Word_idx</th>\n",
              "      <th>Tag_idx</th>\n",
              "    </tr>\n",
              "  </thead>\n",
              "  <tbody>\n",
              "    <tr>\n",
              "      <th>0</th>\n",
              "      <td>Sentence: 1</td>\n",
              "      <td>thousands</td>\n",
              "      <td>NNS</td>\n",
              "      <td>O</td>\n",
              "      <td>358481.0</td>\n",
              "      <td>8</td>\n",
              "    </tr>\n",
              "    <tr>\n",
              "      <th>1</th>\n",
              "      <td>Sentence: 1</td>\n",
              "      <td>of</td>\n",
              "      <td>IN</td>\n",
              "      <td>O</td>\n",
              "      <td>268046.0</td>\n",
              "      <td>8</td>\n",
              "    </tr>\n",
              "    <tr>\n",
              "      <th>2</th>\n",
              "      <td>Sentence: 1</td>\n",
              "      <td>demonstrators</td>\n",
              "      <td>NNS</td>\n",
              "      <td>O</td>\n",
              "      <td>120649.0</td>\n",
              "      <td>8</td>\n",
              "    </tr>\n",
              "    <tr>\n",
              "      <th>3</th>\n",
              "      <td>Sentence: 1</td>\n",
              "      <td>have</td>\n",
              "      <td>VBP</td>\n",
              "      <td>O</td>\n",
              "      <td>174642.0</td>\n",
              "      <td>8</td>\n",
              "    </tr>\n",
              "    <tr>\n",
              "      <th>4</th>\n",
              "      <td>Sentence: 1</td>\n",
              "      <td>marched</td>\n",
              "      <td>VBN</td>\n",
              "      <td>O</td>\n",
              "      <td>234138.0</td>\n",
              "      <td>8</td>\n",
              "    </tr>\n",
              "  </tbody>\n",
              "</table>\n",
              "</div>"
            ],
            "text/plain": [
              "    Sentence #           Word  POS Tag  Word_idx  Tag_idx\n",
              "0  Sentence: 1      thousands  NNS   O  358481.0        8\n",
              "1  Sentence: 1             of   IN   O  268046.0        8\n",
              "2  Sentence: 1  demonstrators  NNS   O  120649.0        8\n",
              "3  Sentence: 1           have  VBP   O  174642.0        8\n",
              "4  Sentence: 1        marched  VBN   O  234138.0        8"
            ]
          },
          "metadata": {
            "tags": []
          },
          "execution_count": 19
        }
      ]
    },
    {
      "cell_type": "code",
      "metadata": {
        "id": "UBpKPh4fpipt",
        "colab": {
          "base_uri": "https://localhost:8080/"
        },
        "outputId": "09af1dac-1894-41ea-f048-2445706c51d6"
      },
      "source": [
        "df_group = df_fill.groupby(['Sentence #'],as_index=False)['Word', 'POS', 'Tag', 'Word_idx', 'Tag_idx'].agg(lambda x: list(x))"
      ],
      "execution_count": 20,
      "outputs": [
        {
          "output_type": "stream",
          "text": [
            "/usr/local/lib/python3.7/dist-packages/ipykernel_launcher.py:1: FutureWarning: Indexing with multiple keys (implicitly converted to a tuple of keys) will be deprecated, use a list instead.\n",
            "  \"\"\"Entry point for launching an IPython kernel.\n"
          ],
          "name": "stderr"
        }
      ]
    },
    {
      "cell_type": "code",
      "metadata": {
        "id": "8s9eHeSJp8bg",
        "colab": {
          "base_uri": "https://localhost:8080/",
          "height": 391
        },
        "outputId": "b516fea6-464b-41f0-e34d-250eb3db9b19"
      },
      "source": [
        "df_group.head()"
      ],
      "execution_count": 21,
      "outputs": [
        {
          "output_type": "execute_result",
          "data": {
            "text/html": [
              "<div>\n",
              "<style scoped>\n",
              "    .dataframe tbody tr th:only-of-type {\n",
              "        vertical-align: middle;\n",
              "    }\n",
              "\n",
              "    .dataframe tbody tr th {\n",
              "        vertical-align: top;\n",
              "    }\n",
              "\n",
              "    .dataframe thead th {\n",
              "        text-align: right;\n",
              "    }\n",
              "</style>\n",
              "<table border=\"1\" class=\"dataframe\">\n",
              "  <thead>\n",
              "    <tr style=\"text-align: right;\">\n",
              "      <th></th>\n",
              "      <th>Sentence #</th>\n",
              "      <th>Word</th>\n",
              "      <th>POS</th>\n",
              "      <th>Tag</th>\n",
              "      <th>Word_idx</th>\n",
              "      <th>Tag_idx</th>\n",
              "    </tr>\n",
              "  </thead>\n",
              "  <tbody>\n",
              "    <tr>\n",
              "      <th>0</th>\n",
              "      <td>Sentence: 1</td>\n",
              "      <td>[thousands, of, demonstrators, have, marched, ...</td>\n",
              "      <td>[NNS, IN, NNS, VBP, VBN, IN, NNP, TO, VB, DT, ...</td>\n",
              "      <td>[O, O, O, O, O, O, B-geo, O, O, O, O, O, B-geo...</td>\n",
              "      <td>[358481.0, 268046.0, 120649.0, 174642.0, 23413...</td>\n",
              "      <td>[8, 8, 8, 8, 8, 8, 14, 8, 8, 8, 8, 8, 14, 8, 8...</td>\n",
              "    </tr>\n",
              "    <tr>\n",
              "      <th>1</th>\n",
              "      <td>Sentence: 10</td>\n",
              "      <td>[iranian, officials, say, they, expect, to, ge...</td>\n",
              "      <td>[JJ, NNS, VBP, PRP, VBP, TO, VB, NN, TO, JJ, J...</td>\n",
              "      <td>[B-gpe, O, O, O, O, O, O, O, O, O, O, O, O, O,...</td>\n",
              "      <td>[192569.0, 268225.0, 319691.0, 357810.0, 14275...</td>\n",
              "      <td>[15, 8, 8, 8, 8, 8, 8, 8, 8, 8, 8, 8, 8, 8, 8,...</td>\n",
              "    </tr>\n",
              "    <tr>\n",
              "      <th>2</th>\n",
              "      <td>Sentence: 100</td>\n",
              "      <td>[helicopter, gunships, saturday, pounded, mili...</td>\n",
              "      <td>[NN, NNS, NNP, VBD, JJ, NNS, IN, DT, NNP, JJ, ...</td>\n",
              "      <td>[O, O, B-tim, O, O, O, O, O, B-geo, O, O, O, O...</td>\n",
              "      <td>[176329.0, 169259.0, 319134.0, 290058.0, 24443...</td>\n",
              "      <td>[8, 8, 3, 8, 8, 8, 8, 8, 14, 8, 8, 8, 8, 8, 5,...</td>\n",
              "    </tr>\n",
              "    <tr>\n",
              "      <th>3</th>\n",
              "      <td>Sentence: 1000</td>\n",
              "      <td>[they, left, after, a, tense, hourlong, stando...</td>\n",
              "      <td>[PRP, VBD, IN, DT, NN, JJ, NN, IN, NN, NNS, .]</td>\n",
              "      <td>[O, O, O, O, O, O, O, O, O, O, O]</td>\n",
              "      <td>[357810.0, 219577.0, 47798.0, 43010.0, 355882....</td>\n",
              "      <td>[8, 8, 8, 8, 8, 8, 8, 8, 8, 8, 8]</td>\n",
              "    </tr>\n",
              "    <tr>\n",
              "      <th>4</th>\n",
              "      <td>Sentence: 10000</td>\n",
              "      <td>[un, relief, coordinator, jan, egeland, said, ...</td>\n",
              "      <td>[NNP, NN, NN, NNP, NNP, VBD, NNP, ,, NNP, ,, J...</td>\n",
              "      <td>[B-geo, O, O, B-per, I-per, O, B-tim, O, B-geo...</td>\n",
              "      <td>[370622.0, 305053.0, 108674.0, 195458.0, 13404...</td>\n",
              "      <td>[14, 8, 8, 11, 16, 8, 3, 8, 14, 8, 15, 8, 15, ...</td>\n",
              "    </tr>\n",
              "  </tbody>\n",
              "</table>\n",
              "</div>"
            ],
            "text/plain": [
              "        Sentence #  ...                                            Tag_idx\n",
              "0      Sentence: 1  ...  [8, 8, 8, 8, 8, 8, 14, 8, 8, 8, 8, 8, 14, 8, 8...\n",
              "1     Sentence: 10  ...  [15, 8, 8, 8, 8, 8, 8, 8, 8, 8, 8, 8, 8, 8, 8,...\n",
              "2    Sentence: 100  ...  [8, 8, 3, 8, 8, 8, 8, 8, 14, 8, 8, 8, 8, 8, 5,...\n",
              "3   Sentence: 1000  ...                  [8, 8, 8, 8, 8, 8, 8, 8, 8, 8, 8]\n",
              "4  Sentence: 10000  ...  [14, 8, 8, 11, 16, 8, 3, 8, 14, 8, 15, 8, 15, ...\n",
              "\n",
              "[5 rows x 6 columns]"
            ]
          },
          "metadata": {
            "tags": []
          },
          "execution_count": 21
        }
      ]
    },
    {
      "cell_type": "markdown",
      "metadata": {
        "id": "BmKRqjvIXiMs"
      },
      "source": [
        "# Data Loader "
      ]
    },
    {
      "cell_type": "code",
      "metadata": {
        "colab": {
          "base_uri": "https://localhost:8080/"
        },
        "id": "F2iYmzAbSYGO",
        "outputId": "c79fe2d0-1f25-441b-940b-ddcf666b213b"
      },
      "source": [
        "from keras.preprocessing.sequence import pad_sequences\n",
        "from sklearn.model_selection import train_test_split\n",
        "\n",
        "def get_pad_train_test_val(data_group, data):\n",
        "\n",
        "    #get max token and tag length\n",
        "    n_token = len(list(set(data['Word'].to_list())))\n",
        "    n_tag = len(list(set(data['Tag'].to_list())))\n",
        "\n",
        "    #Pad tokens (X var)    \n",
        "    tokens = data_group['Word_idx'].tolist()\n",
        "    maxlen = max([len(s) for s in tokens])\n",
        "    #maxlen = 40\n",
        "    pad_tokens = pad_sequences(tokens, maxlen=maxlen, dtype='int32', padding='post', value= token2idx['<PAD>'])\n",
        "    \n",
        "    #Pad Tags (y var) and convert it into one hot encoding\n",
        "    tags = data_group['Tag_idx'].tolist()\n",
        "    pad_tags = pad_sequences(tags, maxlen=maxlen, dtype='int32', padding='post', value= tag2idx[\"O\"])\n",
        "    \n",
        "    #n_tags = len(tag2idx)\n",
        "    #pad_tags = [to_categorical(i, num_classes=n_tags) for i in pad_tags]\n",
        "    \n",
        "    #Split train, test and validation set\n",
        "    train_tokens, test_tokens, train_tags, test_tags = train_test_split(pad_tokens, pad_tags, test_size=0.3, train_size=0.7, random_state=2020)\n",
        "    \n",
        "\n",
        "    print(\n",
        "        'train_tokens length:', len(train_tokens),\n",
        "        '\\ntest_tokens length:', len(test_tokens),\n",
        "        '\\ntrain_tags:', len(train_tags),\n",
        "        '\\ntest_tags:', len(test_tags),\n",
        "    )\n",
        "    \n",
        "    return train_tokens, test_tokens, train_tags, test_tags\n",
        "\n",
        "train_tokens, test_tokens, train_tags, test_tags = get_pad_train_test_val(df_group, df)"
      ],
      "execution_count": 22,
      "outputs": [
        {
          "output_type": "stream",
          "text": [
            "train_tokens length: 33571 \n",
            "test_tokens length: 14388 \n",
            "train_tags: 33571 \n",
            "test_tags: 14388\n"
          ],
          "name": "stdout"
        }
      ]
    },
    {
      "cell_type": "code",
      "metadata": {
        "id": "hs1Tv0ebe3Ue"
      },
      "source": [
        "def data_iterator(tokens, tags, batch_size, shuffle=False):\n",
        "    order = list(range(len(tokens)))\n",
        "    for i in range((len(tokens)+1)//batch_size):\n",
        "        batch_data = [tokens[idx] for idx in order[i*batch_size:(i+1)*batch_size]]\n",
        "        batch_labels = [tags[idx] for idx in order[i*batch_size:(i+1)*batch_size]]\n",
        "        \n",
        "        batch_data, batch_labels = torch.LongTensor(batch_data), torch.LongTensor(batch_labels)\n",
        "        batch_data = batch_data.transpose(0, 1).contiguous()\n",
        "        batch_labels = batch_labels.transpose(0, 1).contiguous()\n",
        "    \n",
        "        batch_data, batch_labels = batch_data.cuda(), batch_labels.cuda()\n",
        "        yield batch_data, batch_labels"
      ],
      "execution_count": 23,
      "outputs": []
    },
    {
      "cell_type": "code",
      "metadata": {
        "colab": {
          "base_uri": "https://localhost:8080/"
        },
        "id": "9GC1GIzze3Zl",
        "outputId": "2533c78e-adec-4361-96af-d74a94c11f09"
      },
      "source": [
        "train_data_iterator =  data_iterator(train_tokens, train_tags,4, shuffle=True)\n",
        "train_batch, labels_batch = next(train_data_iterator)\n",
        "print(train_batch.shape, labels_batch.shape)"
      ],
      "execution_count": 24,
      "outputs": [
        {
          "output_type": "stream",
          "text": [
            "torch.Size([104, 4]) torch.Size([104, 4])\n"
          ],
          "name": "stdout"
        }
      ]
    },
    {
      "cell_type": "markdown",
      "metadata": {
        "id": "QN-fZ2OmXyKy"
      },
      "source": [
        "# Transformer Model"
      ]
    },
    {
      "cell_type": "code",
      "metadata": {
        "id": "4IN7F-jKCdzE"
      },
      "source": [
        "import torch.nn as nn\n",
        "import torch.optim as optim\n",
        "import torch.nn.functional as F\n",
        "from torch.nn import TransformerEncoder, TransformerEncoderLayer"
      ],
      "execution_count": 25,
      "outputs": []
    },
    {
      "cell_type": "code",
      "metadata": {
        "id": "KKLqgWrYX7-x"
      },
      "source": [
        "emb_matrix = torch.FloatTensor(emb_matrix)\n",
        "embedding = torch.nn.Embedding.from_pretrained(emb_matrix,freeze=True)"
      ],
      "execution_count": 26,
      "outputs": []
    },
    {
      "cell_type": "code",
      "metadata": {
        "id": "e8JJzdtZX8Dp"
      },
      "source": [
        "class TransformerModel(nn.Module):\n",
        "    def __init__(self, vocab_size, embedding_size, num_heads, hidden_dim, num_layers, num_labels, pad_idx, dropout=0.5, device=\"cuda\"):\n",
        "        super(TransformerModel, self).__init__()\n",
        "        self.model_type = 'Transformer'\n",
        "        self.encoder = embedding # nn.Embedding(vocab_size, embedding_size)\n",
        "        self.pos_encoder = PositionalEncoding(embedding_size, dropout)\n",
        "        encoder_layers = TransformerEncoderLayer(embedding_size, num_heads, hidden_dim, dropout)\n",
        "        self.transformer_encoder = TransformerEncoder(encoder_layers, num_layers)\n",
        "        self.fc_out = nn.Linear(embedding_size, num_labels)\n",
        "        self.dropout = nn.Dropout(dropout)\n",
        "        self.pad_idx = pad_idx\n",
        "        self.embedding_size = embedding_size\n",
        "        self.device = device\n",
        "\n",
        "\n",
        "    def make_src_mask(self, src):\n",
        "        # use src_mask to ignore pad indices embeddings while computing self-attention output\n",
        "        src_mask = src.transpose(0, 1) == self.pad_idx\n",
        "        return src_mask.to(self.device)\n",
        "\n",
        "    def forward(self, src):\n",
        "        src_mask = self.make_src_mask(src)\n",
        "        src = self.encoder(src) * math.sqrt(self.embedding_size)\n",
        "        src = self.pos_encoder(src)\n",
        "        output = self.transformer_encoder(src, src_key_padding_mask=src_mask)\n",
        "        output = self.fc_out(output)\n",
        "        return output"
      ],
      "execution_count": 27,
      "outputs": []
    },
    {
      "cell_type": "code",
      "metadata": {
        "id": "Pu5u9Lm1X8GN"
      },
      "source": [
        "class PositionalEncoding(nn.Module):\n",
        "    def __init__(self, d_model, dropout=0.1, max_len=5000):\n",
        "        super(PositionalEncoding, self).__init__()\n",
        "        self.dropout = nn.Dropout(p=dropout)\n",
        "\n",
        "        pe = torch.zeros(max_len, d_model)\n",
        "        position = torch.arange(0, max_len, dtype=torch.float).unsqueeze(1)\n",
        "        div_term = torch.exp(torch.arange(0, d_model, 2).float() * (-math.log(10000.0) / d_model))\n",
        "        pe[:, 0::2] = torch.sin(position * div_term)\n",
        "        pe[:, 1::2] = torch.cos(position * div_term)\n",
        "        pe = pe.unsqueeze(0).transpose(0, 1)\n",
        "        self.register_buffer('pe', pe)\n",
        "\n",
        "    def forward(self, x):\n",
        "        x = x + self.pe[:x.size(0), :]\n",
        "        return self.dropout(x)"
      ],
      "execution_count": 28,
      "outputs": []
    },
    {
      "cell_type": "code",
      "metadata": {
        "id": "N-tnb37sX8JA"
      },
      "source": [
        "device = torch.device(\"cuda\" if torch.cuda.is_available() else \"cpu\")\n",
        "vocab_size = len(word_to_index) + 2\n",
        "num_classes = unique_tags\n",
        "embedding_size = 50\n",
        "num_heads = 5\n",
        "pad_idx = 1\n",
        "num_layers = 6\n",
        "dropout = 0.2\n",
        "hidden_dim = 2048"
      ],
      "execution_count": 29,
      "outputs": []
    },
    {
      "cell_type": "code",
      "metadata": {
        "id": "wD8svBz8X8Ls"
      },
      "source": [
        "model = TransformerModel(vocab_size, embedding_size, num_heads,hidden_dim, num_layers, num_classes, pad_idx, dropout, device).to(device)"
      ],
      "execution_count": 30,
      "outputs": []
    },
    {
      "cell_type": "code",
      "metadata": {
        "colab": {
          "base_uri": "https://localhost:8080/"
        },
        "id": "x9uv_qq-X8OY",
        "outputId": "79a2b121-b1b5-4cd2-f427-c779efaab61a"
      },
      "source": [
        "!pip install torchsummaryX"
      ],
      "execution_count": 31,
      "outputs": [
        {
          "output_type": "stream",
          "text": [
            "Collecting torchsummaryX\n",
            "  Downloading https://files.pythonhosted.org/packages/36/23/87eeaaf70daa61aa21495ece0969c50c446b8fd42c4b8905af264b40fe7f/torchsummaryX-1.3.0-py3-none-any.whl\n",
            "Requirement already satisfied: torch in /usr/local/lib/python3.7/dist-packages (from torchsummaryX) (1.8.1+cu101)\n",
            "Requirement already satisfied: numpy in /usr/local/lib/python3.7/dist-packages (from torchsummaryX) (1.19.5)\n",
            "Requirement already satisfied: pandas in /usr/local/lib/python3.7/dist-packages (from torchsummaryX) (1.1.5)\n",
            "Requirement already satisfied: typing-extensions in /usr/local/lib/python3.7/dist-packages (from torch->torchsummaryX) (3.7.4.3)\n",
            "Requirement already satisfied: pytz>=2017.2 in /usr/local/lib/python3.7/dist-packages (from pandas->torchsummaryX) (2018.9)\n",
            "Requirement already satisfied: python-dateutil>=2.7.3 in /usr/local/lib/python3.7/dist-packages (from pandas->torchsummaryX) (2.8.1)\n",
            "Requirement already satisfied: six>=1.5 in /usr/local/lib/python3.7/dist-packages (from python-dateutil>=2.7.3->pandas->torchsummaryX) (1.15.0)\n",
            "Installing collected packages: torchsummaryX\n",
            "Successfully installed torchsummaryX-1.3.0\n"
          ],
          "name": "stdout"
        }
      ]
    },
    {
      "cell_type": "code",
      "metadata": {
        "id": "ffJCj_YaX8Rc",
        "colab": {
          "base_uri": "https://localhost:8080/",
          "height": 1000
        },
        "outputId": "cad486ce-36cb-4e83-975e-caabaa60d93d"
      },
      "source": [
        "from torchsummaryX import summary\n",
        "summary(model, torch.zeros((20, 4)).long().cuda())"
      ],
      "execution_count": 32,
      "outputs": [
        {
          "output_type": "stream",
          "text": [
            "==================================================================================================\n",
            "                                                  Kernel Shape   Output Shape  \\\n",
            "Layer                                                                           \n",
            "0_encoder                                         [50, 400002]    [20, 4, 50]   \n",
            "1_pos_encoder.Dropout_dropout                                -    [20, 4, 50]   \n",
            "2_transformer_encoder.layers.0.Dropout_dropout1              -    [20, 4, 50]   \n",
            "3_transformer_encoder.layers.0.LayerNorm_norm1            [50]    [20, 4, 50]   \n",
            "4_transformer_encoder.layers.0.Linear_linear1       [50, 2048]  [20, 4, 2048]   \n",
            "5_transformer_encoder.layers.0.Dropout_dropout               -  [20, 4, 2048]   \n",
            "6_transformer_encoder.layers.0.Linear_linear2       [2048, 50]    [20, 4, 50]   \n",
            "7_transformer_encoder.layers.0.Dropout_dropout2              -    [20, 4, 50]   \n",
            "8_transformer_encoder.layers.0.LayerNorm_norm2            [50]    [20, 4, 50]   \n",
            "9_transformer_encoder.layers.1.Dropout_dropout1              -    [20, 4, 50]   \n",
            "10_transformer_encoder.layers.1.LayerNorm_norm1           [50]    [20, 4, 50]   \n",
            "11_transformer_encoder.layers.1.Linear_linear1      [50, 2048]  [20, 4, 2048]   \n",
            "12_transformer_encoder.layers.1.Dropout_dropout              -  [20, 4, 2048]   \n",
            "13_transformer_encoder.layers.1.Linear_linear2      [2048, 50]    [20, 4, 50]   \n",
            "14_transformer_encoder.layers.1.Dropout_dropout2             -    [20, 4, 50]   \n",
            "15_transformer_encoder.layers.1.LayerNorm_norm2           [50]    [20, 4, 50]   \n",
            "16_transformer_encoder.layers.2.Dropout_dropout1             -    [20, 4, 50]   \n",
            "17_transformer_encoder.layers.2.LayerNorm_norm1           [50]    [20, 4, 50]   \n",
            "18_transformer_encoder.layers.2.Linear_linear1      [50, 2048]  [20, 4, 2048]   \n",
            "19_transformer_encoder.layers.2.Dropout_dropout              -  [20, 4, 2048]   \n",
            "20_transformer_encoder.layers.2.Linear_linear2      [2048, 50]    [20, 4, 50]   \n",
            "21_transformer_encoder.layers.2.Dropout_dropout2             -    [20, 4, 50]   \n",
            "22_transformer_encoder.layers.2.LayerNorm_norm2           [50]    [20, 4, 50]   \n",
            "23_transformer_encoder.layers.3.Dropout_dropout1             -    [20, 4, 50]   \n",
            "24_transformer_encoder.layers.3.LayerNorm_norm1           [50]    [20, 4, 50]   \n",
            "25_transformer_encoder.layers.3.Linear_linear1      [50, 2048]  [20, 4, 2048]   \n",
            "26_transformer_encoder.layers.3.Dropout_dropout              -  [20, 4, 2048]   \n",
            "27_transformer_encoder.layers.3.Linear_linear2      [2048, 50]    [20, 4, 50]   \n",
            "28_transformer_encoder.layers.3.Dropout_dropout2             -    [20, 4, 50]   \n",
            "29_transformer_encoder.layers.3.LayerNorm_norm2           [50]    [20, 4, 50]   \n",
            "30_transformer_encoder.layers.4.Dropout_dropout1             -    [20, 4, 50]   \n",
            "31_transformer_encoder.layers.4.LayerNorm_norm1           [50]    [20, 4, 50]   \n",
            "32_transformer_encoder.layers.4.Linear_linear1      [50, 2048]  [20, 4, 2048]   \n",
            "33_transformer_encoder.layers.4.Dropout_dropout              -  [20, 4, 2048]   \n",
            "34_transformer_encoder.layers.4.Linear_linear2      [2048, 50]    [20, 4, 50]   \n",
            "35_transformer_encoder.layers.4.Dropout_dropout2             -    [20, 4, 50]   \n",
            "36_transformer_encoder.layers.4.LayerNorm_norm2           [50]    [20, 4, 50]   \n",
            "37_transformer_encoder.layers.5.Dropout_dropout1             -    [20, 4, 50]   \n",
            "38_transformer_encoder.layers.5.LayerNorm_norm1           [50]    [20, 4, 50]   \n",
            "39_transformer_encoder.layers.5.Linear_linear1      [50, 2048]  [20, 4, 2048]   \n",
            "40_transformer_encoder.layers.5.Dropout_dropout              -  [20, 4, 2048]   \n",
            "41_transformer_encoder.layers.5.Linear_linear2      [2048, 50]    [20, 4, 50]   \n",
            "42_transformer_encoder.layers.5.Dropout_dropout2             -    [20, 4, 50]   \n",
            "43_transformer_encoder.layers.5.LayerNorm_norm2           [50]    [20, 4, 50]   \n",
            "44_fc_out                                             [50, 17]    [20, 4, 17]   \n",
            "\n",
            "                                                    Params Mult-Adds  \n",
            "Layer                                                                 \n",
            "0_encoder                                                -         -  \n",
            "1_pos_encoder.Dropout_dropout                            -         -  \n",
            "2_transformer_encoder.layers.0.Dropout_dropout1          -         -  \n",
            "3_transformer_encoder.layers.0.LayerNorm_norm1       100.0      50.0  \n",
            "4_transformer_encoder.layers.0.Linear_linear1     104.448k    102.4k  \n",
            "5_transformer_encoder.layers.0.Dropout_dropout           -         -  \n",
            "6_transformer_encoder.layers.0.Linear_linear2      102.45k    102.4k  \n",
            "7_transformer_encoder.layers.0.Dropout_dropout2          -         -  \n",
            "8_transformer_encoder.layers.0.LayerNorm_norm2       100.0      50.0  \n",
            "9_transformer_encoder.layers.1.Dropout_dropout1          -         -  \n",
            "10_transformer_encoder.layers.1.LayerNorm_norm1      100.0      50.0  \n",
            "11_transformer_encoder.layers.1.Linear_linear1    104.448k    102.4k  \n",
            "12_transformer_encoder.layers.1.Dropout_dropout          -         -  \n",
            "13_transformer_encoder.layers.1.Linear_linear2     102.45k    102.4k  \n",
            "14_transformer_encoder.layers.1.Dropout_dropout2         -         -  \n",
            "15_transformer_encoder.layers.1.LayerNorm_norm2      100.0      50.0  \n",
            "16_transformer_encoder.layers.2.Dropout_dropout1         -         -  \n",
            "17_transformer_encoder.layers.2.LayerNorm_norm1      100.0      50.0  \n",
            "18_transformer_encoder.layers.2.Linear_linear1    104.448k    102.4k  \n",
            "19_transformer_encoder.layers.2.Dropout_dropout          -         -  \n",
            "20_transformer_encoder.layers.2.Linear_linear2     102.45k    102.4k  \n",
            "21_transformer_encoder.layers.2.Dropout_dropout2         -         -  \n",
            "22_transformer_encoder.layers.2.LayerNorm_norm2      100.0      50.0  \n",
            "23_transformer_encoder.layers.3.Dropout_dropout1         -         -  \n",
            "24_transformer_encoder.layers.3.LayerNorm_norm1      100.0      50.0  \n",
            "25_transformer_encoder.layers.3.Linear_linear1    104.448k    102.4k  \n",
            "26_transformer_encoder.layers.3.Dropout_dropout          -         -  \n",
            "27_transformer_encoder.layers.3.Linear_linear2     102.45k    102.4k  \n",
            "28_transformer_encoder.layers.3.Dropout_dropout2         -         -  \n",
            "29_transformer_encoder.layers.3.LayerNorm_norm2      100.0      50.0  \n",
            "30_transformer_encoder.layers.4.Dropout_dropout1         -         -  \n",
            "31_transformer_encoder.layers.4.LayerNorm_norm1      100.0      50.0  \n",
            "32_transformer_encoder.layers.4.Linear_linear1    104.448k    102.4k  \n",
            "33_transformer_encoder.layers.4.Dropout_dropout          -         -  \n",
            "34_transformer_encoder.layers.4.Linear_linear2     102.45k    102.4k  \n",
            "35_transformer_encoder.layers.4.Dropout_dropout2         -         -  \n",
            "36_transformer_encoder.layers.4.LayerNorm_norm2      100.0      50.0  \n",
            "37_transformer_encoder.layers.5.Dropout_dropout1         -         -  \n",
            "38_transformer_encoder.layers.5.LayerNorm_norm1      100.0      50.0  \n",
            "39_transformer_encoder.layers.5.Linear_linear1    104.448k    102.4k  \n",
            "40_transformer_encoder.layers.5.Dropout_dropout          -         -  \n",
            "41_transformer_encoder.layers.5.Linear_linear2     102.45k    102.4k  \n",
            "42_transformer_encoder.layers.5.Dropout_dropout2         -         -  \n",
            "43_transformer_encoder.layers.5.LayerNorm_norm2      100.0      50.0  \n",
            "44_fc_out                                            867.0     850.0  \n",
            "--------------------------------------------------------------------------------------------------\n",
            "                          Totals\n",
            "Total params          21.243555M\n",
            "Trainable params       1.243455M\n",
            "Non-trainable params    20.0001M\n",
            "Mult-Adds               1.23025M\n",
            "==================================================================================================\n"
          ],
          "name": "stdout"
        },
        {
          "output_type": "execute_result",
          "data": {
            "text/html": [
              "<div>\n",
              "<style scoped>\n",
              "    .dataframe tbody tr th:only-of-type {\n",
              "        vertical-align: middle;\n",
              "    }\n",
              "\n",
              "    .dataframe tbody tr th {\n",
              "        vertical-align: top;\n",
              "    }\n",
              "\n",
              "    .dataframe thead th {\n",
              "        text-align: right;\n",
              "    }\n",
              "</style>\n",
              "<table border=\"1\" class=\"dataframe\">\n",
              "  <thead>\n",
              "    <tr style=\"text-align: right;\">\n",
              "      <th></th>\n",
              "      <th>Kernel Shape</th>\n",
              "      <th>Output Shape</th>\n",
              "      <th>Params</th>\n",
              "      <th>Mult-Adds</th>\n",
              "    </tr>\n",
              "    <tr>\n",
              "      <th>Layer</th>\n",
              "      <th></th>\n",
              "      <th></th>\n",
              "      <th></th>\n",
              "      <th></th>\n",
              "    </tr>\n",
              "  </thead>\n",
              "  <tbody>\n",
              "    <tr>\n",
              "      <th>0_encoder</th>\n",
              "      <td>[50, 400002]</td>\n",
              "      <td>[20, 4, 50]</td>\n",
              "      <td>NaN</td>\n",
              "      <td>NaN</td>\n",
              "    </tr>\n",
              "    <tr>\n",
              "      <th>1_pos_encoder.Dropout_dropout</th>\n",
              "      <td>-</td>\n",
              "      <td>[20, 4, 50]</td>\n",
              "      <td>NaN</td>\n",
              "      <td>NaN</td>\n",
              "    </tr>\n",
              "    <tr>\n",
              "      <th>2_transformer_encoder.layers.0.Dropout_dropout1</th>\n",
              "      <td>-</td>\n",
              "      <td>[20, 4, 50]</td>\n",
              "      <td>NaN</td>\n",
              "      <td>NaN</td>\n",
              "    </tr>\n",
              "    <tr>\n",
              "      <th>3_transformer_encoder.layers.0.LayerNorm_norm1</th>\n",
              "      <td>[50]</td>\n",
              "      <td>[20, 4, 50]</td>\n",
              "      <td>100.0</td>\n",
              "      <td>50.0</td>\n",
              "    </tr>\n",
              "    <tr>\n",
              "      <th>4_transformer_encoder.layers.0.Linear_linear1</th>\n",
              "      <td>[50, 2048]</td>\n",
              "      <td>[20, 4, 2048]</td>\n",
              "      <td>104448.0</td>\n",
              "      <td>102400.0</td>\n",
              "    </tr>\n",
              "    <tr>\n",
              "      <th>5_transformer_encoder.layers.0.Dropout_dropout</th>\n",
              "      <td>-</td>\n",
              "      <td>[20, 4, 2048]</td>\n",
              "      <td>NaN</td>\n",
              "      <td>NaN</td>\n",
              "    </tr>\n",
              "    <tr>\n",
              "      <th>6_transformer_encoder.layers.0.Linear_linear2</th>\n",
              "      <td>[2048, 50]</td>\n",
              "      <td>[20, 4, 50]</td>\n",
              "      <td>102450.0</td>\n",
              "      <td>102400.0</td>\n",
              "    </tr>\n",
              "    <tr>\n",
              "      <th>7_transformer_encoder.layers.0.Dropout_dropout2</th>\n",
              "      <td>-</td>\n",
              "      <td>[20, 4, 50]</td>\n",
              "      <td>NaN</td>\n",
              "      <td>NaN</td>\n",
              "    </tr>\n",
              "    <tr>\n",
              "      <th>8_transformer_encoder.layers.0.LayerNorm_norm2</th>\n",
              "      <td>[50]</td>\n",
              "      <td>[20, 4, 50]</td>\n",
              "      <td>100.0</td>\n",
              "      <td>50.0</td>\n",
              "    </tr>\n",
              "    <tr>\n",
              "      <th>9_transformer_encoder.layers.1.Dropout_dropout1</th>\n",
              "      <td>-</td>\n",
              "      <td>[20, 4, 50]</td>\n",
              "      <td>NaN</td>\n",
              "      <td>NaN</td>\n",
              "    </tr>\n",
              "    <tr>\n",
              "      <th>10_transformer_encoder.layers.1.LayerNorm_norm1</th>\n",
              "      <td>[50]</td>\n",
              "      <td>[20, 4, 50]</td>\n",
              "      <td>100.0</td>\n",
              "      <td>50.0</td>\n",
              "    </tr>\n",
              "    <tr>\n",
              "      <th>11_transformer_encoder.layers.1.Linear_linear1</th>\n",
              "      <td>[50, 2048]</td>\n",
              "      <td>[20, 4, 2048]</td>\n",
              "      <td>104448.0</td>\n",
              "      <td>102400.0</td>\n",
              "    </tr>\n",
              "    <tr>\n",
              "      <th>12_transformer_encoder.layers.1.Dropout_dropout</th>\n",
              "      <td>-</td>\n",
              "      <td>[20, 4, 2048]</td>\n",
              "      <td>NaN</td>\n",
              "      <td>NaN</td>\n",
              "    </tr>\n",
              "    <tr>\n",
              "      <th>13_transformer_encoder.layers.1.Linear_linear2</th>\n",
              "      <td>[2048, 50]</td>\n",
              "      <td>[20, 4, 50]</td>\n",
              "      <td>102450.0</td>\n",
              "      <td>102400.0</td>\n",
              "    </tr>\n",
              "    <tr>\n",
              "      <th>14_transformer_encoder.layers.1.Dropout_dropout2</th>\n",
              "      <td>-</td>\n",
              "      <td>[20, 4, 50]</td>\n",
              "      <td>NaN</td>\n",
              "      <td>NaN</td>\n",
              "    </tr>\n",
              "    <tr>\n",
              "      <th>15_transformer_encoder.layers.1.LayerNorm_norm2</th>\n",
              "      <td>[50]</td>\n",
              "      <td>[20, 4, 50]</td>\n",
              "      <td>100.0</td>\n",
              "      <td>50.0</td>\n",
              "    </tr>\n",
              "    <tr>\n",
              "      <th>16_transformer_encoder.layers.2.Dropout_dropout1</th>\n",
              "      <td>-</td>\n",
              "      <td>[20, 4, 50]</td>\n",
              "      <td>NaN</td>\n",
              "      <td>NaN</td>\n",
              "    </tr>\n",
              "    <tr>\n",
              "      <th>17_transformer_encoder.layers.2.LayerNorm_norm1</th>\n",
              "      <td>[50]</td>\n",
              "      <td>[20, 4, 50]</td>\n",
              "      <td>100.0</td>\n",
              "      <td>50.0</td>\n",
              "    </tr>\n",
              "    <tr>\n",
              "      <th>18_transformer_encoder.layers.2.Linear_linear1</th>\n",
              "      <td>[50, 2048]</td>\n",
              "      <td>[20, 4, 2048]</td>\n",
              "      <td>104448.0</td>\n",
              "      <td>102400.0</td>\n",
              "    </tr>\n",
              "    <tr>\n",
              "      <th>19_transformer_encoder.layers.2.Dropout_dropout</th>\n",
              "      <td>-</td>\n",
              "      <td>[20, 4, 2048]</td>\n",
              "      <td>NaN</td>\n",
              "      <td>NaN</td>\n",
              "    </tr>\n",
              "    <tr>\n",
              "      <th>20_transformer_encoder.layers.2.Linear_linear2</th>\n",
              "      <td>[2048, 50]</td>\n",
              "      <td>[20, 4, 50]</td>\n",
              "      <td>102450.0</td>\n",
              "      <td>102400.0</td>\n",
              "    </tr>\n",
              "    <tr>\n",
              "      <th>21_transformer_encoder.layers.2.Dropout_dropout2</th>\n",
              "      <td>-</td>\n",
              "      <td>[20, 4, 50]</td>\n",
              "      <td>NaN</td>\n",
              "      <td>NaN</td>\n",
              "    </tr>\n",
              "    <tr>\n",
              "      <th>22_transformer_encoder.layers.2.LayerNorm_norm2</th>\n",
              "      <td>[50]</td>\n",
              "      <td>[20, 4, 50]</td>\n",
              "      <td>100.0</td>\n",
              "      <td>50.0</td>\n",
              "    </tr>\n",
              "    <tr>\n",
              "      <th>23_transformer_encoder.layers.3.Dropout_dropout1</th>\n",
              "      <td>-</td>\n",
              "      <td>[20, 4, 50]</td>\n",
              "      <td>NaN</td>\n",
              "      <td>NaN</td>\n",
              "    </tr>\n",
              "    <tr>\n",
              "      <th>24_transformer_encoder.layers.3.LayerNorm_norm1</th>\n",
              "      <td>[50]</td>\n",
              "      <td>[20, 4, 50]</td>\n",
              "      <td>100.0</td>\n",
              "      <td>50.0</td>\n",
              "    </tr>\n",
              "    <tr>\n",
              "      <th>25_transformer_encoder.layers.3.Linear_linear1</th>\n",
              "      <td>[50, 2048]</td>\n",
              "      <td>[20, 4, 2048]</td>\n",
              "      <td>104448.0</td>\n",
              "      <td>102400.0</td>\n",
              "    </tr>\n",
              "    <tr>\n",
              "      <th>26_transformer_encoder.layers.3.Dropout_dropout</th>\n",
              "      <td>-</td>\n",
              "      <td>[20, 4, 2048]</td>\n",
              "      <td>NaN</td>\n",
              "      <td>NaN</td>\n",
              "    </tr>\n",
              "    <tr>\n",
              "      <th>27_transformer_encoder.layers.3.Linear_linear2</th>\n",
              "      <td>[2048, 50]</td>\n",
              "      <td>[20, 4, 50]</td>\n",
              "      <td>102450.0</td>\n",
              "      <td>102400.0</td>\n",
              "    </tr>\n",
              "    <tr>\n",
              "      <th>28_transformer_encoder.layers.3.Dropout_dropout2</th>\n",
              "      <td>-</td>\n",
              "      <td>[20, 4, 50]</td>\n",
              "      <td>NaN</td>\n",
              "      <td>NaN</td>\n",
              "    </tr>\n",
              "    <tr>\n",
              "      <th>29_transformer_encoder.layers.3.LayerNorm_norm2</th>\n",
              "      <td>[50]</td>\n",
              "      <td>[20, 4, 50]</td>\n",
              "      <td>100.0</td>\n",
              "      <td>50.0</td>\n",
              "    </tr>\n",
              "    <tr>\n",
              "      <th>30_transformer_encoder.layers.4.Dropout_dropout1</th>\n",
              "      <td>-</td>\n",
              "      <td>[20, 4, 50]</td>\n",
              "      <td>NaN</td>\n",
              "      <td>NaN</td>\n",
              "    </tr>\n",
              "    <tr>\n",
              "      <th>31_transformer_encoder.layers.4.LayerNorm_norm1</th>\n",
              "      <td>[50]</td>\n",
              "      <td>[20, 4, 50]</td>\n",
              "      <td>100.0</td>\n",
              "      <td>50.0</td>\n",
              "    </tr>\n",
              "    <tr>\n",
              "      <th>32_transformer_encoder.layers.4.Linear_linear1</th>\n",
              "      <td>[50, 2048]</td>\n",
              "      <td>[20, 4, 2048]</td>\n",
              "      <td>104448.0</td>\n",
              "      <td>102400.0</td>\n",
              "    </tr>\n",
              "    <tr>\n",
              "      <th>33_transformer_encoder.layers.4.Dropout_dropout</th>\n",
              "      <td>-</td>\n",
              "      <td>[20, 4, 2048]</td>\n",
              "      <td>NaN</td>\n",
              "      <td>NaN</td>\n",
              "    </tr>\n",
              "    <tr>\n",
              "      <th>34_transformer_encoder.layers.4.Linear_linear2</th>\n",
              "      <td>[2048, 50]</td>\n",
              "      <td>[20, 4, 50]</td>\n",
              "      <td>102450.0</td>\n",
              "      <td>102400.0</td>\n",
              "    </tr>\n",
              "    <tr>\n",
              "      <th>35_transformer_encoder.layers.4.Dropout_dropout2</th>\n",
              "      <td>-</td>\n",
              "      <td>[20, 4, 50]</td>\n",
              "      <td>NaN</td>\n",
              "      <td>NaN</td>\n",
              "    </tr>\n",
              "    <tr>\n",
              "      <th>36_transformer_encoder.layers.4.LayerNorm_norm2</th>\n",
              "      <td>[50]</td>\n",
              "      <td>[20, 4, 50]</td>\n",
              "      <td>100.0</td>\n",
              "      <td>50.0</td>\n",
              "    </tr>\n",
              "    <tr>\n",
              "      <th>37_transformer_encoder.layers.5.Dropout_dropout1</th>\n",
              "      <td>-</td>\n",
              "      <td>[20, 4, 50]</td>\n",
              "      <td>NaN</td>\n",
              "      <td>NaN</td>\n",
              "    </tr>\n",
              "    <tr>\n",
              "      <th>38_transformer_encoder.layers.5.LayerNorm_norm1</th>\n",
              "      <td>[50]</td>\n",
              "      <td>[20, 4, 50]</td>\n",
              "      <td>100.0</td>\n",
              "      <td>50.0</td>\n",
              "    </tr>\n",
              "    <tr>\n",
              "      <th>39_transformer_encoder.layers.5.Linear_linear1</th>\n",
              "      <td>[50, 2048]</td>\n",
              "      <td>[20, 4, 2048]</td>\n",
              "      <td>104448.0</td>\n",
              "      <td>102400.0</td>\n",
              "    </tr>\n",
              "    <tr>\n",
              "      <th>40_transformer_encoder.layers.5.Dropout_dropout</th>\n",
              "      <td>-</td>\n",
              "      <td>[20, 4, 2048]</td>\n",
              "      <td>NaN</td>\n",
              "      <td>NaN</td>\n",
              "    </tr>\n",
              "    <tr>\n",
              "      <th>41_transformer_encoder.layers.5.Linear_linear2</th>\n",
              "      <td>[2048, 50]</td>\n",
              "      <td>[20, 4, 50]</td>\n",
              "      <td>102450.0</td>\n",
              "      <td>102400.0</td>\n",
              "    </tr>\n",
              "    <tr>\n",
              "      <th>42_transformer_encoder.layers.5.Dropout_dropout2</th>\n",
              "      <td>-</td>\n",
              "      <td>[20, 4, 50]</td>\n",
              "      <td>NaN</td>\n",
              "      <td>NaN</td>\n",
              "    </tr>\n",
              "    <tr>\n",
              "      <th>43_transformer_encoder.layers.5.LayerNorm_norm2</th>\n",
              "      <td>[50]</td>\n",
              "      <td>[20, 4, 50]</td>\n",
              "      <td>100.0</td>\n",
              "      <td>50.0</td>\n",
              "    </tr>\n",
              "    <tr>\n",
              "      <th>44_fc_out</th>\n",
              "      <td>[50, 17]</td>\n",
              "      <td>[20, 4, 17]</td>\n",
              "      <td>867.0</td>\n",
              "      <td>850.0</td>\n",
              "    </tr>\n",
              "  </tbody>\n",
              "</table>\n",
              "</div>"
            ],
            "text/plain": [
              "                                                  Kernel Shape  ... Mult-Adds\n",
              "Layer                                                           ...          \n",
              "0_encoder                                         [50, 400002]  ...       NaN\n",
              "1_pos_encoder.Dropout_dropout                                -  ...       NaN\n",
              "2_transformer_encoder.layers.0.Dropout_dropout1              -  ...       NaN\n",
              "3_transformer_encoder.layers.0.LayerNorm_norm1            [50]  ...      50.0\n",
              "4_transformer_encoder.layers.0.Linear_linear1       [50, 2048]  ...  102400.0\n",
              "5_transformer_encoder.layers.0.Dropout_dropout               -  ...       NaN\n",
              "6_transformer_encoder.layers.0.Linear_linear2       [2048, 50]  ...  102400.0\n",
              "7_transformer_encoder.layers.0.Dropout_dropout2              -  ...       NaN\n",
              "8_transformer_encoder.layers.0.LayerNorm_norm2            [50]  ...      50.0\n",
              "9_transformer_encoder.layers.1.Dropout_dropout1              -  ...       NaN\n",
              "10_transformer_encoder.layers.1.LayerNorm_norm1           [50]  ...      50.0\n",
              "11_transformer_encoder.layers.1.Linear_linear1      [50, 2048]  ...  102400.0\n",
              "12_transformer_encoder.layers.1.Dropout_dropout              -  ...       NaN\n",
              "13_transformer_encoder.layers.1.Linear_linear2      [2048, 50]  ...  102400.0\n",
              "14_transformer_encoder.layers.1.Dropout_dropout2             -  ...       NaN\n",
              "15_transformer_encoder.layers.1.LayerNorm_norm2           [50]  ...      50.0\n",
              "16_transformer_encoder.layers.2.Dropout_dropout1             -  ...       NaN\n",
              "17_transformer_encoder.layers.2.LayerNorm_norm1           [50]  ...      50.0\n",
              "18_transformer_encoder.layers.2.Linear_linear1      [50, 2048]  ...  102400.0\n",
              "19_transformer_encoder.layers.2.Dropout_dropout              -  ...       NaN\n",
              "20_transformer_encoder.layers.2.Linear_linear2      [2048, 50]  ...  102400.0\n",
              "21_transformer_encoder.layers.2.Dropout_dropout2             -  ...       NaN\n",
              "22_transformer_encoder.layers.2.LayerNorm_norm2           [50]  ...      50.0\n",
              "23_transformer_encoder.layers.3.Dropout_dropout1             -  ...       NaN\n",
              "24_transformer_encoder.layers.3.LayerNorm_norm1           [50]  ...      50.0\n",
              "25_transformer_encoder.layers.3.Linear_linear1      [50, 2048]  ...  102400.0\n",
              "26_transformer_encoder.layers.3.Dropout_dropout              -  ...       NaN\n",
              "27_transformer_encoder.layers.3.Linear_linear2      [2048, 50]  ...  102400.0\n",
              "28_transformer_encoder.layers.3.Dropout_dropout2             -  ...       NaN\n",
              "29_transformer_encoder.layers.3.LayerNorm_norm2           [50]  ...      50.0\n",
              "30_transformer_encoder.layers.4.Dropout_dropout1             -  ...       NaN\n",
              "31_transformer_encoder.layers.4.LayerNorm_norm1           [50]  ...      50.0\n",
              "32_transformer_encoder.layers.4.Linear_linear1      [50, 2048]  ...  102400.0\n",
              "33_transformer_encoder.layers.4.Dropout_dropout              -  ...       NaN\n",
              "34_transformer_encoder.layers.4.Linear_linear2      [2048, 50]  ...  102400.0\n",
              "35_transformer_encoder.layers.4.Dropout_dropout2             -  ...       NaN\n",
              "36_transformer_encoder.layers.4.LayerNorm_norm2           [50]  ...      50.0\n",
              "37_transformer_encoder.layers.5.Dropout_dropout1             -  ...       NaN\n",
              "38_transformer_encoder.layers.5.LayerNorm_norm1           [50]  ...      50.0\n",
              "39_transformer_encoder.layers.5.Linear_linear1      [50, 2048]  ...  102400.0\n",
              "40_transformer_encoder.layers.5.Dropout_dropout              -  ...       NaN\n",
              "41_transformer_encoder.layers.5.Linear_linear2      [2048, 50]  ...  102400.0\n",
              "42_transformer_encoder.layers.5.Dropout_dropout2             -  ...       NaN\n",
              "43_transformer_encoder.layers.5.LayerNorm_norm2           [50]  ...      50.0\n",
              "44_fc_out                                             [50, 17]  ...     850.0\n",
              "\n",
              "[45 rows x 4 columns]"
            ]
          },
          "metadata": {
            "tags": []
          },
          "execution_count": 32
        }
      ]
    },
    {
      "cell_type": "markdown",
      "metadata": {
        "id": "QcpirEVGJhff"
      },
      "source": [
        "# Training and Validation"
      ]
    },
    {
      "cell_type": "code",
      "metadata": {
        "id": "YLxGdc8sCd1p"
      },
      "source": [
        "def accuracy(outputs, labels):\n",
        "    labels = labels.ravel()\n",
        "    mask = (labels >= 0)\n",
        "    outputs = np.argmax(outputs, axis=1)\n",
        "    return np.sum(outputs == labels)/float(np.sum(mask))\n",
        "metrics = {\n",
        "    'accuracy': accuracy,\n",
        "}"
      ],
      "execution_count": 33,
      "outputs": []
    },
    {
      "cell_type": "code",
      "metadata": {
        "id": "S97NLNbNEYxa"
      },
      "source": [
        "from tqdm import trange\n",
        "def train(model, optimizer, loss_fn, data_iterator, metrics, num_steps):\n",
        "    model.train()\n",
        "    summ = []\n",
        "    t = trange(num_steps)\n",
        "    for i in t:\n",
        "        train_batch, labels_batch = next(data_iterator)\n",
        "        output_batch = model(train_batch)\n",
        "        output_batch = output_batch.view(output_batch.shape[0]*output_batch.shape[1], output_batch.shape[2])\n",
        "        labels_batch = labels_batch.view(labels_batch.shape[0]*labels_batch.shape[1],)\n",
        "        loss = loss_fn(output_batch, labels_batch)\n",
        "        optimizer.zero_grad()\n",
        "        loss.backward()\n",
        "        optimizer.step()\n",
        "        if i % 100 == 0:\n",
        "            output_batch = output_batch.data.cpu().numpy()\n",
        "            labels_batch = labels_batch.data.cpu().numpy()\n",
        "            summary_batch = {metric: metrics[metric](output_batch, labels_batch)\n",
        "                             for metric in metrics}\n",
        "            summary_batch['loss'] = loss.item()\n",
        "            summ.append(summary_batch)\n",
        "\n",
        "    metrics_mean = {metric: np.mean([x[metric]\n",
        "                                     for x in summ]) for metric in summ[0]}\n",
        "    metrics_string = \" ; \".join(\"{}: {:05.3f}\".format(k, v)\n",
        "                                for k, v in metrics_mean.items())\n",
        "    print(\"- Train metrics: \" + metrics_string)"
      ],
      "execution_count": 34,
      "outputs": []
    },
    {
      "cell_type": "code",
      "metadata": {
        "id": "ZA9tkIBcEY0U"
      },
      "source": [
        "def evaluate(model, loss_fn, data_iterator, metrics, num_steps):\n",
        "    model.eval()\n",
        "    summ = []\n",
        "    for _ in range(num_steps):\n",
        "        data_batch, labels_batch = next(data_iterator)\n",
        "        output_batch = model(data_batch)\n",
        "        output_batch = output_batch.view(output_batch.shape[0]*output_batch.shape[1], output_batch.shape[2])\n",
        "        labels_batch = labels_batch.view(labels_batch.shape[0]*labels_batch.shape[1],)\n",
        "        loss = loss_fn(output_batch, labels_batch)\n",
        "        output_batch = output_batch.data.cpu().numpy()\n",
        "        labels_batch = labels_batch.data.cpu().numpy()\n",
        "        summary_batch = {metric: metrics[metric](output_batch, labels_batch)\n",
        "                         for metric in metrics}\n",
        "        summary_batch['loss'] = loss.item()\n",
        "        summ.append(summary_batch)\n",
        "    metrics_mean = {metric:np.mean([x[metric] for x in summ]) for metric in summ[0]} \n",
        "    metrics_string = \" ; \".join(\"{}: {:05.3f}\".format(k, v) for k, v in metrics_mean.items())\n",
        "    print(\"- Eval metrics : \" + metrics_string)\n",
        "    return metrics_mean"
      ],
      "execution_count": 35,
      "outputs": []
    },
    {
      "cell_type": "code",
      "metadata": {
        "colab": {
          "base_uri": "https://localhost:8080/"
        },
        "id": "oKblTegTEY3C",
        "outputId": "f648ff89-6f96-453e-c534-93caad6f0080"
      },
      "source": [
        "total_tags = 0\n",
        "for tag in tag2idx.keys():\n",
        "    total_tags += count_tags[tag]\n",
        "class_weights = [0 for _ in range(unique_tags)]\n",
        "for tag, idx in tag2idx.items():\n",
        "    class_weights[idx] = 1/count_tags[tag]\n",
        "class_weights = torch.FloatTensor(class_weights).cuda()\n",
        "print(class_weights)"
      ],
      "execution_count": 36,
      "outputs": [
        {
          "output_type": "stream",
          "text": [
            "tensor([1.9608e-02, 4.9751e-03, 1.3488e-04, 4.9181e-05, 3.9526e-03, 4.9645e-05,\n",
            "        5.9581e-05, 2.4876e-03, 1.1262e-06, 3.3670e-03, 1.5319e-04, 5.8858e-05,\n",
            "        3.2468e-03, 5.0505e-03, 2.6565e-05, 6.3012e-05, 5.7968e-05],\n",
            "       device='cuda:0')\n"
          ],
          "name": "stdout"
        }
      ]
    },
    {
      "cell_type": "code",
      "metadata": {
        "id": "6kK0uAbiEY5E"
      },
      "source": [
        "batch_size = 128\n",
        "num_epochs = 40\n",
        "\n",
        "def train_and_evaluate(model, train_tokens, train_tags, val_tokens, val_tags, optimizer, metrics):\n",
        "    loss_fn = nn.CrossEntropyLoss(class_weights, ignore_index=-1, reduction='mean')\n",
        "    for epoch in range(num_epochs):\n",
        "        print(\"Epoch {}/{}\".format(epoch + 1, num_epochs))\n",
        "        num_steps = (len(train_tokens) + 1) // batch_size\n",
        "        train_data_iterator = data_iterator(train_tokens, train_tags, batch_size, shuffle=True)\n",
        "        train(model, optimizer, loss_fn, train_data_iterator, metrics, num_steps)\n",
        "        num_steps = (len(val_tokens) + 1) // batch_size\n",
        "        val_data_iterator = data_iterator(val_tokens, val_tags, batch_size, shuffle=False)\n",
        "        val_metrics = evaluate(model, loss_fn, val_data_iterator, metrics, num_steps)"
      ],
      "execution_count": 37,
      "outputs": []
    },
    {
      "cell_type": "code",
      "metadata": {
        "id": "PBL9bzxrdGT-"
      },
      "source": [
        "optimizer = optim.SGD(model.parameters(), lr=0.001, momentum=0.9)\n",
        "lambda1 = lambda epoch: 0.65 ** epoch\n",
        "scheduler = torch.optim.lr_scheduler.LambdaLR(optimizer, lr_lambda=lambda1)"
      ],
      "execution_count": 38,
      "outputs": []
    },
    {
      "cell_type": "code",
      "metadata": {
        "colab": {
          "base_uri": "https://localhost:8080/"
        },
        "id": "bOuzSqSNdGYS",
        "outputId": "1e58bb7a-23d8-4624-87f3-0dbc260b0efd"
      },
      "source": [
        "train_and_evaluate(model, train_tokens, train_tags, test_tokens, test_tags, optimizer, metrics)"
      ],
      "execution_count": 39,
      "outputs": [
        {
          "output_type": "stream",
          "text": [
            "\r  0%|          | 0/262 [00:00<?, ?it/s]"
          ],
          "name": "stderr"
        },
        {
          "output_type": "stream",
          "text": [
            "Epoch 1/40\n"
          ],
          "name": "stdout"
        },
        {
          "output_type": "stream",
          "text": [
            "100%|██████████| 262/262 [00:18<00:00, 13.97it/s]\n"
          ],
          "name": "stderr"
        },
        {
          "output_type": "stream",
          "text": [
            "- Train metrics: accuracy: 0.594 ; loss: 2.266\n"
          ],
          "name": "stdout"
        },
        {
          "output_type": "stream",
          "text": [
            "  1%|          | 3/262 [00:00<00:14, 18.38it/s]"
          ],
          "name": "stderr"
        },
        {
          "output_type": "stream",
          "text": [
            "- Eval metrics : accuracy: 0.866 ; loss: 1.641\n",
            "Epoch 2/40\n"
          ],
          "name": "stdout"
        },
        {
          "output_type": "stream",
          "text": [
            "100%|██████████| 262/262 [00:18<00:00, 13.98it/s]\n"
          ],
          "name": "stderr"
        },
        {
          "output_type": "stream",
          "text": [
            "- Train metrics: accuracy: 0.869 ; loss: 1.583\n"
          ],
          "name": "stdout"
        },
        {
          "output_type": "stream",
          "text": [
            "  1%|          | 3/262 [00:00<00:14, 18.41it/s]"
          ],
          "name": "stderr"
        },
        {
          "output_type": "stream",
          "text": [
            "- Eval metrics : accuracy: 0.875 ; loss: 1.386\n",
            "Epoch 3/40\n"
          ],
          "name": "stdout"
        },
        {
          "output_type": "stream",
          "text": [
            "100%|██████████| 262/262 [00:18<00:00, 13.98it/s]\n"
          ],
          "name": "stderr"
        },
        {
          "output_type": "stream",
          "text": [
            "- Train metrics: accuracy: 0.870 ; loss: 1.460\n"
          ],
          "name": "stdout"
        },
        {
          "output_type": "stream",
          "text": [
            "  1%|          | 3/262 [00:00<00:13, 18.57it/s]"
          ],
          "name": "stderr"
        },
        {
          "output_type": "stream",
          "text": [
            "- Eval metrics : accuracy: 0.883 ; loss: 1.237\n",
            "Epoch 4/40\n"
          ],
          "name": "stdout"
        },
        {
          "output_type": "stream",
          "text": [
            "100%|██████████| 262/262 [00:18<00:00, 13.98it/s]\n"
          ],
          "name": "stderr"
        },
        {
          "output_type": "stream",
          "text": [
            "- Train metrics: accuracy: 0.875 ; loss: 1.303\n"
          ],
          "name": "stdout"
        },
        {
          "output_type": "stream",
          "text": [
            "  1%|          | 3/262 [00:00<00:13, 18.61it/s]"
          ],
          "name": "stderr"
        },
        {
          "output_type": "stream",
          "text": [
            "- Eval metrics : accuracy: 0.885 ; loss: 1.161\n",
            "Epoch 5/40\n"
          ],
          "name": "stdout"
        },
        {
          "output_type": "stream",
          "text": [
            "100%|██████████| 262/262 [00:18<00:00, 13.98it/s]\n"
          ],
          "name": "stderr"
        },
        {
          "output_type": "stream",
          "text": [
            "- Train metrics: accuracy: 0.873 ; loss: 1.218\n"
          ],
          "name": "stdout"
        },
        {
          "output_type": "stream",
          "text": [
            "  1%|          | 3/262 [00:00<00:14, 18.40it/s]"
          ],
          "name": "stderr"
        },
        {
          "output_type": "stream",
          "text": [
            "- Eval metrics : accuracy: 0.898 ; loss: 1.120\n",
            "Epoch 6/40\n"
          ],
          "name": "stdout"
        },
        {
          "output_type": "stream",
          "text": [
            "100%|██████████| 262/262 [00:18<00:00, 13.98it/s]\n"
          ],
          "name": "stderr"
        },
        {
          "output_type": "stream",
          "text": [
            "- Train metrics: accuracy: 0.886 ; loss: 1.219\n"
          ],
          "name": "stdout"
        },
        {
          "output_type": "stream",
          "text": [
            "  1%|          | 3/262 [00:00<00:14, 18.19it/s]"
          ],
          "name": "stderr"
        },
        {
          "output_type": "stream",
          "text": [
            "- Eval metrics : accuracy: 0.894 ; loss: 1.107\n",
            "Epoch 7/40\n"
          ],
          "name": "stdout"
        },
        {
          "output_type": "stream",
          "text": [
            "100%|██████████| 262/262 [00:18<00:00, 13.98it/s]\n"
          ],
          "name": "stderr"
        },
        {
          "output_type": "stream",
          "text": [
            "- Train metrics: accuracy: 0.889 ; loss: 1.208\n"
          ],
          "name": "stdout"
        },
        {
          "output_type": "stream",
          "text": [
            "  1%|          | 3/262 [00:00<00:14, 18.22it/s]"
          ],
          "name": "stderr"
        },
        {
          "output_type": "stream",
          "text": [
            "- Eval metrics : accuracy: 0.907 ; loss: 1.075\n",
            "Epoch 8/40\n"
          ],
          "name": "stdout"
        },
        {
          "output_type": "stream",
          "text": [
            "100%|██████████| 262/262 [00:18<00:00, 13.98it/s]\n"
          ],
          "name": "stderr"
        },
        {
          "output_type": "stream",
          "text": [
            "- Train metrics: accuracy: 0.891 ; loss: 1.172\n"
          ],
          "name": "stdout"
        },
        {
          "output_type": "stream",
          "text": [
            "  1%|          | 3/262 [00:00<00:14, 18.38it/s]"
          ],
          "name": "stderr"
        },
        {
          "output_type": "stream",
          "text": [
            "- Eval metrics : accuracy: 0.900 ; loss: 1.064\n",
            "Epoch 9/40\n"
          ],
          "name": "stdout"
        },
        {
          "output_type": "stream",
          "text": [
            "100%|██████████| 262/262 [00:18<00:00, 13.98it/s]\n"
          ],
          "name": "stderr"
        },
        {
          "output_type": "stream",
          "text": [
            "- Train metrics: accuracy: 0.886 ; loss: 1.218\n"
          ],
          "name": "stdout"
        },
        {
          "output_type": "stream",
          "text": [
            "  1%|          | 3/262 [00:00<00:13, 18.57it/s]"
          ],
          "name": "stderr"
        },
        {
          "output_type": "stream",
          "text": [
            "- Eval metrics : accuracy: 0.906 ; loss: 1.046\n",
            "Epoch 10/40\n"
          ],
          "name": "stdout"
        },
        {
          "output_type": "stream",
          "text": [
            "100%|██████████| 262/262 [00:18<00:00, 13.98it/s]\n"
          ],
          "name": "stderr"
        },
        {
          "output_type": "stream",
          "text": [
            "- Train metrics: accuracy: 0.887 ; loss: 1.175\n"
          ],
          "name": "stdout"
        },
        {
          "output_type": "stream",
          "text": [
            "  1%|          | 3/262 [00:00<00:14, 18.23it/s]"
          ],
          "name": "stderr"
        },
        {
          "output_type": "stream",
          "text": [
            "- Eval metrics : accuracy: 0.901 ; loss: 1.087\n",
            "Epoch 11/40\n"
          ],
          "name": "stdout"
        },
        {
          "output_type": "stream",
          "text": [
            "100%|██████████| 262/262 [00:18<00:00, 13.98it/s]\n"
          ],
          "name": "stderr"
        },
        {
          "output_type": "stream",
          "text": [
            "- Train metrics: accuracy: 0.890 ; loss: 1.110\n"
          ],
          "name": "stdout"
        },
        {
          "output_type": "stream",
          "text": [
            "  1%|          | 3/262 [00:00<00:13, 18.65it/s]"
          ],
          "name": "stderr"
        },
        {
          "output_type": "stream",
          "text": [
            "- Eval metrics : accuracy: 0.897 ; loss: 1.046\n",
            "Epoch 12/40\n"
          ],
          "name": "stdout"
        },
        {
          "output_type": "stream",
          "text": [
            "100%|██████████| 262/262 [00:18<00:00, 13.98it/s]\n"
          ],
          "name": "stderr"
        },
        {
          "output_type": "stream",
          "text": [
            "- Train metrics: accuracy: 0.890 ; loss: 1.063\n"
          ],
          "name": "stdout"
        },
        {
          "output_type": "stream",
          "text": [
            "  1%|          | 3/262 [00:00<00:14, 18.32it/s]"
          ],
          "name": "stderr"
        },
        {
          "output_type": "stream",
          "text": [
            "- Eval metrics : accuracy: 0.903 ; loss: 1.033\n",
            "Epoch 13/40\n"
          ],
          "name": "stdout"
        },
        {
          "output_type": "stream",
          "text": [
            "100%|██████████| 262/262 [00:18<00:00, 13.98it/s]\n"
          ],
          "name": "stderr"
        },
        {
          "output_type": "stream",
          "text": [
            "- Train metrics: accuracy: 0.890 ; loss: 1.115\n"
          ],
          "name": "stdout"
        },
        {
          "output_type": "stream",
          "text": [
            "  1%|          | 3/262 [00:00<00:13, 18.54it/s]"
          ],
          "name": "stderr"
        },
        {
          "output_type": "stream",
          "text": [
            "- Eval metrics : accuracy: 0.902 ; loss: 1.016\n",
            "Epoch 14/40\n"
          ],
          "name": "stdout"
        },
        {
          "output_type": "stream",
          "text": [
            "100%|██████████| 262/262 [00:18<00:00, 13.98it/s]\n"
          ],
          "name": "stderr"
        },
        {
          "output_type": "stream",
          "text": [
            "- Train metrics: accuracy: 0.892 ; loss: 1.040\n"
          ],
          "name": "stdout"
        },
        {
          "output_type": "stream",
          "text": [
            "  1%|          | 3/262 [00:00<00:14, 18.31it/s]"
          ],
          "name": "stderr"
        },
        {
          "output_type": "stream",
          "text": [
            "- Eval metrics : accuracy: 0.909 ; loss: 0.979\n",
            "Epoch 15/40\n"
          ],
          "name": "stdout"
        },
        {
          "output_type": "stream",
          "text": [
            "100%|██████████| 262/262 [00:18<00:00, 13.98it/s]\n"
          ],
          "name": "stderr"
        },
        {
          "output_type": "stream",
          "text": [
            "- Train metrics: accuracy: 0.900 ; loss: 0.990\n"
          ],
          "name": "stdout"
        },
        {
          "output_type": "stream",
          "text": [
            "  1%|          | 3/262 [00:00<00:13, 18.56it/s]"
          ],
          "name": "stderr"
        },
        {
          "output_type": "stream",
          "text": [
            "- Eval metrics : accuracy: 0.911 ; loss: 0.976\n",
            "Epoch 16/40\n"
          ],
          "name": "stdout"
        },
        {
          "output_type": "stream",
          "text": [
            "100%|██████████| 262/262 [00:18<00:00, 13.98it/s]\n"
          ],
          "name": "stderr"
        },
        {
          "output_type": "stream",
          "text": [
            "- Train metrics: accuracy: 0.894 ; loss: 1.011\n"
          ],
          "name": "stdout"
        },
        {
          "output_type": "stream",
          "text": [
            "  1%|          | 3/262 [00:00<00:13, 18.56it/s]"
          ],
          "name": "stderr"
        },
        {
          "output_type": "stream",
          "text": [
            "- Eval metrics : accuracy: 0.925 ; loss: 0.955\n",
            "Epoch 17/40\n"
          ],
          "name": "stdout"
        },
        {
          "output_type": "stream",
          "text": [
            "100%|██████████| 262/262 [00:18<00:00, 13.98it/s]\n"
          ],
          "name": "stderr"
        },
        {
          "output_type": "stream",
          "text": [
            "- Train metrics: accuracy: 0.902 ; loss: 1.072\n"
          ],
          "name": "stdout"
        },
        {
          "output_type": "stream",
          "text": [
            "  1%|          | 3/262 [00:00<00:14, 17.85it/s]"
          ],
          "name": "stderr"
        },
        {
          "output_type": "stream",
          "text": [
            "- Eval metrics : accuracy: 0.905 ; loss: 0.963\n",
            "Epoch 18/40\n"
          ],
          "name": "stdout"
        },
        {
          "output_type": "stream",
          "text": [
            "100%|██████████| 262/262 [00:18<00:00, 13.98it/s]\n"
          ],
          "name": "stderr"
        },
        {
          "output_type": "stream",
          "text": [
            "- Train metrics: accuracy: 0.898 ; loss: 1.029\n"
          ],
          "name": "stdout"
        },
        {
          "output_type": "stream",
          "text": [
            "  1%|          | 3/262 [00:00<00:13, 18.62it/s]"
          ],
          "name": "stderr"
        },
        {
          "output_type": "stream",
          "text": [
            "- Eval metrics : accuracy: 0.916 ; loss: 0.957\n",
            "Epoch 19/40\n"
          ],
          "name": "stdout"
        },
        {
          "output_type": "stream",
          "text": [
            "100%|██████████| 262/262 [00:18<00:00, 13.98it/s]\n"
          ],
          "name": "stderr"
        },
        {
          "output_type": "stream",
          "text": [
            "- Train metrics: accuracy: 0.904 ; loss: 0.924\n"
          ],
          "name": "stdout"
        },
        {
          "output_type": "stream",
          "text": [
            "  1%|          | 3/262 [00:00<00:14, 18.24it/s]"
          ],
          "name": "stderr"
        },
        {
          "output_type": "stream",
          "text": [
            "- Eval metrics : accuracy: 0.913 ; loss: 0.944\n",
            "Epoch 20/40\n"
          ],
          "name": "stdout"
        },
        {
          "output_type": "stream",
          "text": [
            "100%|██████████| 262/262 [00:18<00:00, 13.98it/s]\n"
          ],
          "name": "stderr"
        },
        {
          "output_type": "stream",
          "text": [
            "- Train metrics: accuracy: 0.903 ; loss: 1.038\n"
          ],
          "name": "stdout"
        },
        {
          "output_type": "stream",
          "text": [
            "  1%|          | 3/262 [00:00<00:14, 18.16it/s]"
          ],
          "name": "stderr"
        },
        {
          "output_type": "stream",
          "text": [
            "- Eval metrics : accuracy: 0.911 ; loss: 0.948\n",
            "Epoch 21/40\n"
          ],
          "name": "stdout"
        },
        {
          "output_type": "stream",
          "text": [
            "100%|██████████| 262/262 [00:18<00:00, 13.98it/s]\n"
          ],
          "name": "stderr"
        },
        {
          "output_type": "stream",
          "text": [
            "- Train metrics: accuracy: 0.904 ; loss: 0.970\n"
          ],
          "name": "stdout"
        },
        {
          "output_type": "stream",
          "text": [
            "  1%|          | 3/262 [00:00<00:13, 18.53it/s]"
          ],
          "name": "stderr"
        },
        {
          "output_type": "stream",
          "text": [
            "- Eval metrics : accuracy: 0.916 ; loss: 0.923\n",
            "Epoch 22/40\n"
          ],
          "name": "stdout"
        },
        {
          "output_type": "stream",
          "text": [
            "100%|██████████| 262/262 [00:18<00:00, 13.98it/s]\n"
          ],
          "name": "stderr"
        },
        {
          "output_type": "stream",
          "text": [
            "- Train metrics: accuracy: 0.905 ; loss: 1.034\n"
          ],
          "name": "stdout"
        },
        {
          "output_type": "stream",
          "text": [
            "  1%|          | 3/262 [00:00<00:13, 18.64it/s]"
          ],
          "name": "stderr"
        },
        {
          "output_type": "stream",
          "text": [
            "- Eval metrics : accuracy: 0.917 ; loss: 0.939\n",
            "Epoch 23/40\n"
          ],
          "name": "stdout"
        },
        {
          "output_type": "stream",
          "text": [
            "100%|██████████| 262/262 [00:18<00:00, 13.98it/s]\n"
          ],
          "name": "stderr"
        },
        {
          "output_type": "stream",
          "text": [
            "- Train metrics: accuracy: 0.905 ; loss: 0.920\n"
          ],
          "name": "stdout"
        },
        {
          "output_type": "stream",
          "text": [
            "  1%|          | 3/262 [00:00<00:14, 18.42it/s]"
          ],
          "name": "stderr"
        },
        {
          "output_type": "stream",
          "text": [
            "- Eval metrics : accuracy: 0.916 ; loss: 0.919\n",
            "Epoch 24/40\n"
          ],
          "name": "stdout"
        },
        {
          "output_type": "stream",
          "text": [
            "100%|██████████| 262/262 [00:18<00:00, 13.98it/s]\n"
          ],
          "name": "stderr"
        },
        {
          "output_type": "stream",
          "text": [
            "- Train metrics: accuracy: 0.906 ; loss: 0.985\n"
          ],
          "name": "stdout"
        },
        {
          "output_type": "stream",
          "text": [
            "  1%|          | 3/262 [00:00<00:13, 18.52it/s]"
          ],
          "name": "stderr"
        },
        {
          "output_type": "stream",
          "text": [
            "- Eval metrics : accuracy: 0.919 ; loss: 0.933\n",
            "Epoch 25/40\n"
          ],
          "name": "stdout"
        },
        {
          "output_type": "stream",
          "text": [
            "100%|██████████| 262/262 [00:18<00:00, 13.98it/s]\n"
          ],
          "name": "stderr"
        },
        {
          "output_type": "stream",
          "text": [
            "- Train metrics: accuracy: 0.905 ; loss: 0.855\n"
          ],
          "name": "stdout"
        },
        {
          "output_type": "stream",
          "text": [
            "  1%|          | 3/262 [00:00<00:13, 18.60it/s]"
          ],
          "name": "stderr"
        },
        {
          "output_type": "stream",
          "text": [
            "- Eval metrics : accuracy: 0.915 ; loss: 0.917\n",
            "Epoch 26/40\n"
          ],
          "name": "stdout"
        },
        {
          "output_type": "stream",
          "text": [
            "100%|██████████| 262/262 [00:18<00:00, 13.98it/s]\n"
          ],
          "name": "stderr"
        },
        {
          "output_type": "stream",
          "text": [
            "- Train metrics: accuracy: 0.908 ; loss: 0.885\n"
          ],
          "name": "stdout"
        },
        {
          "output_type": "stream",
          "text": [
            "  1%|          | 3/262 [00:00<00:13, 18.53it/s]"
          ],
          "name": "stderr"
        },
        {
          "output_type": "stream",
          "text": [
            "- Eval metrics : accuracy: 0.900 ; loss: 0.986\n",
            "Epoch 27/40\n"
          ],
          "name": "stdout"
        },
        {
          "output_type": "stream",
          "text": [
            "100%|██████████| 262/262 [00:18<00:00, 13.99it/s]\n"
          ],
          "name": "stderr"
        },
        {
          "output_type": "stream",
          "text": [
            "- Train metrics: accuracy: 0.908 ; loss: 0.948\n"
          ],
          "name": "stdout"
        },
        {
          "output_type": "stream",
          "text": [
            "  1%|          | 3/262 [00:00<00:13, 18.58it/s]"
          ],
          "name": "stderr"
        },
        {
          "output_type": "stream",
          "text": [
            "- Eval metrics : accuracy: 0.919 ; loss: 0.937\n",
            "Epoch 28/40\n"
          ],
          "name": "stdout"
        },
        {
          "output_type": "stream",
          "text": [
            "100%|██████████| 262/262 [00:18<00:00, 13.98it/s]\n"
          ],
          "name": "stderr"
        },
        {
          "output_type": "stream",
          "text": [
            "- Train metrics: accuracy: 0.908 ; loss: 0.924\n"
          ],
          "name": "stdout"
        },
        {
          "output_type": "stream",
          "text": [
            "  1%|          | 3/262 [00:00<00:14, 18.32it/s]"
          ],
          "name": "stderr"
        },
        {
          "output_type": "stream",
          "text": [
            "- Eval metrics : accuracy: 0.919 ; loss: 0.909\n",
            "Epoch 29/40\n"
          ],
          "name": "stdout"
        },
        {
          "output_type": "stream",
          "text": [
            "100%|██████████| 262/262 [00:18<00:00, 13.98it/s]\n"
          ],
          "name": "stderr"
        },
        {
          "output_type": "stream",
          "text": [
            "- Train metrics: accuracy: 0.904 ; loss: 0.964\n"
          ],
          "name": "stdout"
        },
        {
          "output_type": "stream",
          "text": [
            "  1%|          | 3/262 [00:00<00:14, 18.22it/s]"
          ],
          "name": "stderr"
        },
        {
          "output_type": "stream",
          "text": [
            "- Eval metrics : accuracy: 0.919 ; loss: 0.904\n",
            "Epoch 30/40\n"
          ],
          "name": "stdout"
        },
        {
          "output_type": "stream",
          "text": [
            "100%|██████████| 262/262 [00:18<00:00, 13.98it/s]\n"
          ],
          "name": "stderr"
        },
        {
          "output_type": "stream",
          "text": [
            "- Train metrics: accuracy: 0.911 ; loss: 0.807\n"
          ],
          "name": "stdout"
        },
        {
          "output_type": "stream",
          "text": [
            "  1%|          | 3/262 [00:00<00:14, 18.29it/s]"
          ],
          "name": "stderr"
        },
        {
          "output_type": "stream",
          "text": [
            "- Eval metrics : accuracy: 0.922 ; loss: 0.904\n",
            "Epoch 31/40\n"
          ],
          "name": "stdout"
        },
        {
          "output_type": "stream",
          "text": [
            "100%|██████████| 262/262 [00:18<00:00, 13.98it/s]\n"
          ],
          "name": "stderr"
        },
        {
          "output_type": "stream",
          "text": [
            "- Train metrics: accuracy: 0.911 ; loss: 0.924\n"
          ],
          "name": "stdout"
        },
        {
          "output_type": "stream",
          "text": [
            "  1%|          | 3/262 [00:00<00:14, 18.41it/s]"
          ],
          "name": "stderr"
        },
        {
          "output_type": "stream",
          "text": [
            "- Eval metrics : accuracy: 0.919 ; loss: 0.899\n",
            "Epoch 32/40\n"
          ],
          "name": "stdout"
        },
        {
          "output_type": "stream",
          "text": [
            "100%|██████████| 262/262 [00:18<00:00, 13.98it/s]\n"
          ],
          "name": "stderr"
        },
        {
          "output_type": "stream",
          "text": [
            "- Train metrics: accuracy: 0.912 ; loss: 0.872\n"
          ],
          "name": "stdout"
        },
        {
          "output_type": "stream",
          "text": [
            "  1%|          | 3/262 [00:00<00:13, 18.54it/s]"
          ],
          "name": "stderr"
        },
        {
          "output_type": "stream",
          "text": [
            "- Eval metrics : accuracy: 0.913 ; loss: 0.910\n",
            "Epoch 33/40\n"
          ],
          "name": "stdout"
        },
        {
          "output_type": "stream",
          "text": [
            "100%|██████████| 262/262 [00:18<00:00, 13.98it/s]\n"
          ],
          "name": "stderr"
        },
        {
          "output_type": "stream",
          "text": [
            "- Train metrics: accuracy: 0.905 ; loss: 0.957\n"
          ],
          "name": "stdout"
        },
        {
          "output_type": "stream",
          "text": [
            "  1%|          | 3/262 [00:00<00:13, 18.55it/s]"
          ],
          "name": "stderr"
        },
        {
          "output_type": "stream",
          "text": [
            "- Eval metrics : accuracy: 0.916 ; loss: 0.903\n",
            "Epoch 34/40\n"
          ],
          "name": "stdout"
        },
        {
          "output_type": "stream",
          "text": [
            "100%|██████████| 262/262 [00:18<00:00, 13.98it/s]\n"
          ],
          "name": "stderr"
        },
        {
          "output_type": "stream",
          "text": [
            "- Train metrics: accuracy: 0.906 ; loss: 0.887\n"
          ],
          "name": "stdout"
        },
        {
          "output_type": "stream",
          "text": [
            "  1%|          | 3/262 [00:00<00:14, 18.36it/s]"
          ],
          "name": "stderr"
        },
        {
          "output_type": "stream",
          "text": [
            "- Eval metrics : accuracy: 0.917 ; loss: 0.890\n",
            "Epoch 35/40\n"
          ],
          "name": "stdout"
        },
        {
          "output_type": "stream",
          "text": [
            "100%|██████████| 262/262 [00:18<00:00, 13.98it/s]\n"
          ],
          "name": "stderr"
        },
        {
          "output_type": "stream",
          "text": [
            "- Train metrics: accuracy: 0.908 ; loss: 0.805\n"
          ],
          "name": "stdout"
        },
        {
          "output_type": "stream",
          "text": [
            "  1%|          | 3/262 [00:00<00:14, 18.41it/s]"
          ],
          "name": "stderr"
        },
        {
          "output_type": "stream",
          "text": [
            "- Eval metrics : accuracy: 0.916 ; loss: 0.888\n",
            "Epoch 36/40\n"
          ],
          "name": "stdout"
        },
        {
          "output_type": "stream",
          "text": [
            "100%|██████████| 262/262 [00:18<00:00, 13.98it/s]\n"
          ],
          "name": "stderr"
        },
        {
          "output_type": "stream",
          "text": [
            "- Train metrics: accuracy: 0.911 ; loss: 0.793\n"
          ],
          "name": "stdout"
        },
        {
          "output_type": "stream",
          "text": [
            "  1%|          | 3/262 [00:00<00:14, 18.27it/s]"
          ],
          "name": "stderr"
        },
        {
          "output_type": "stream",
          "text": [
            "- Eval metrics : accuracy: 0.915 ; loss: 0.906\n",
            "Epoch 37/40\n"
          ],
          "name": "stdout"
        },
        {
          "output_type": "stream",
          "text": [
            "100%|██████████| 262/262 [00:18<00:00, 13.98it/s]\n"
          ],
          "name": "stderr"
        },
        {
          "output_type": "stream",
          "text": [
            "- Train metrics: accuracy: 0.910 ; loss: 0.798\n"
          ],
          "name": "stdout"
        },
        {
          "output_type": "stream",
          "text": [
            "  1%|          | 3/262 [00:00<00:14, 18.35it/s]"
          ],
          "name": "stderr"
        },
        {
          "output_type": "stream",
          "text": [
            "- Eval metrics : accuracy: 0.920 ; loss: 0.893\n",
            "Epoch 38/40\n"
          ],
          "name": "stdout"
        },
        {
          "output_type": "stream",
          "text": [
            "100%|██████████| 262/262 [00:18<00:00, 13.98it/s]\n"
          ],
          "name": "stderr"
        },
        {
          "output_type": "stream",
          "text": [
            "- Train metrics: accuracy: 0.912 ; loss: 0.816\n"
          ],
          "name": "stdout"
        },
        {
          "output_type": "stream",
          "text": [
            "  1%|          | 3/262 [00:00<00:14, 18.14it/s]"
          ],
          "name": "stderr"
        },
        {
          "output_type": "stream",
          "text": [
            "- Eval metrics : accuracy: 0.923 ; loss: 0.888\n",
            "Epoch 39/40\n"
          ],
          "name": "stdout"
        },
        {
          "output_type": "stream",
          "text": [
            "100%|██████████| 262/262 [00:18<00:00, 13.98it/s]\n"
          ],
          "name": "stderr"
        },
        {
          "output_type": "stream",
          "text": [
            "- Train metrics: accuracy: 0.916 ; loss: 0.835\n"
          ],
          "name": "stdout"
        },
        {
          "output_type": "stream",
          "text": [
            "  1%|          | 3/262 [00:00<00:14, 18.26it/s]"
          ],
          "name": "stderr"
        },
        {
          "output_type": "stream",
          "text": [
            "- Eval metrics : accuracy: 0.914 ; loss: 0.895\n",
            "Epoch 40/40\n"
          ],
          "name": "stdout"
        },
        {
          "output_type": "stream",
          "text": [
            "100%|██████████| 262/262 [00:18<00:00, 13.98it/s]\n"
          ],
          "name": "stderr"
        },
        {
          "output_type": "stream",
          "text": [
            "- Train metrics: accuracy: 0.910 ; loss: 0.829\n",
            "- Eval metrics : accuracy: 0.919 ; loss: 0.896\n"
          ],
          "name": "stdout"
        }
      ]
    },
    {
      "cell_type": "code",
      "metadata": {
        "id": "7ASmKdSPmCM_"
      },
      "source": [
        "torch.save(model.state_dict(), \"model_100.pth\")"
      ],
      "execution_count": 40,
      "outputs": []
    },
    {
      "cell_type": "code",
      "metadata": {
        "id": "_7JRw7L2mCQ0"
      },
      "source": [
        "import seaborn as sn\n",
        "import matplotlib.pyplot as plt\n",
        "\n",
        "def plot_conf_mat(model, tokens, tags):\n",
        "    model.eval()\n",
        "    summ = []\n",
        "    conf_mat = np.zeros((unique_tags, unique_tags))\n",
        "    print(\"unique_tags\",unique_tags, conf_mat.shape)\n",
        "    for idx in trange(len(tokens)):\n",
        "        data = [tokens[idx]]\n",
        "        labels = tags[idx]\n",
        "        data = torch.LongTensor(data)\n",
        "        data = data.transpose(0, 1).contiguous().cuda()\n",
        "        outputs = model(data)\n",
        "        outputs = outputs.view(outputs.shape[0]*outputs.shape[1], outputs.shape[2])\n",
        "        outputs = outputs.data.cpu().numpy()\n",
        "        outputs = np.argmax(outputs, axis=1)\n",
        "        for i, j in  zip(labels, outputs):\n",
        "            conf_mat[i][j]+=1\n",
        "            \n",
        "    df_cm = pd.DataFrame(conf_mat, index = list(tag2idx.keys()), columns = list(tag2idx.keys()))\n",
        "    plt.figure(figsize = (10,7))\n",
        "    sn.heatmap(df_cm, annot=True)\n",
        "    \n",
        "    for i in range(unique_tags):\n",
        "        print()\n",
        "        print(idx2tag[i].upper())\n",
        "        print(\"precision\", conf_mat[i][i]/np.sum(conf_mat.T[i]))\n",
        "        print(\"recall\", conf_mat[i][i]/np.sum(conf_mat[i]))"
      ],
      "execution_count": 41,
      "outputs": []
    },
    {
      "cell_type": "code",
      "metadata": {
        "colab": {
          "base_uri": "https://localhost:8080/",
          "height": 1000
        },
        "id": "1D2WDCcgmFBh",
        "outputId": "bef1d3d1-e9cf-4190-9cf6-45875975b644"
      },
      "source": [
        "plot_conf_mat(model, test_tokens, test_tags)"
      ],
      "execution_count": 42,
      "outputs": [
        {
          "output_type": "stream",
          "text": [
            "  0%|          | 22/14388 [00:00<01:05, 219.79it/s]"
          ],
          "name": "stderr"
        },
        {
          "output_type": "stream",
          "text": [
            "unique_tags 17 (17, 17)\n"
          ],
          "name": "stdout"
        },
        {
          "output_type": "stream",
          "text": [
            "100%|██████████| 14388/14388 [01:01<00:00, 232.54it/s]\n"
          ],
          "name": "stderr"
        },
        {
          "output_type": "stream",
          "text": [
            "\n",
            "I-NAT\n",
            "precision 0.026845637583892617\n",
            "recall 0.75\n",
            "\n",
            "B-NAT\n",
            "precision 0.016827934371055953\n",
            "recall 0.625\n",
            "\n",
            "I-GEO\n",
            "precision 0.13834811657643128\n",
            "recall 0.533303730017762\n",
            "\n",
            "B-TIM\n",
            "precision 0.2778262328077826\n",
            "recall 0.6833333333333333\n",
            "\n",
            "I-EVE\n",
            "precision 0.017891130567186907\n",
            "recall 0.6438356164383562\n",
            "\n",
            "B-ORG\n",
            "precision 0.19544186046511627\n",
            "recall 0.35075125208681135\n",
            "\n",
            "I-ORG\n",
            "precision 0.07835535810294575\n",
            "recall 0.559168012924071\n",
            "\n",
            "B-ART\n",
            "precision 0.008173941474579042\n",
            "recall 0.46296296296296297\n",
            "\n",
            "O\n",
            "precision 0.999139380234755\n",
            "recall 0.9275665261391534\n",
            "\n",
            "I-ART\n",
            "precision 0.004862023653088042\n",
            "recall 0.42528735632183906\n",
            "\n",
            "I-TIM\n",
            "precision 0.06217449416970088\n",
            "recall 0.6903787103377687\n",
            "\n",
            "B-PER\n",
            "precision 0.38476350944758697\n",
            "recall 0.6234399375975039\n",
            "\n",
            "B-EVE\n",
            "precision 0.045420699925539834\n",
            "recall 0.6039603960396039\n",
            "\n",
            "I-GPE\n",
            "precision 0.052121212121212124\n",
            "recall 0.5584415584415584\n",
            "\n",
            "B-GEO\n",
            "precision 0.5535725586988165\n",
            "recall 0.7750310118731172\n",
            "\n",
            "B-GPE\n",
            "precision 0.6868591260451176\n",
            "recall 0.9020095297286099\n",
            "\n",
            "I-PER\n",
            "precision 0.46076093128904033\n",
            "recall 0.7709996199163816\n"
          ],
          "name": "stdout"
        },
        {
          "output_type": "display_data",
          "data": {
            "image/png": "[encoded data removed]",
            "text/plain": [
              "<Figure size 720x504 with 2 Axes>"
            ]
          },
          "metadata": {
            "tags": [],
            "needs_background": "light"
          }
        }
      ]
    },
    {
      "cell_type": "code",
      "metadata": {
        "colab": {
          "base_uri": "https://localhost:8080/"
        },
        "id": "KU-MCEOOmFJc",
        "outputId": "4814beb5-10b4-4597-d1bc-b0762b59d8b9"
      },
      "source": [
        "model.load_state_dict(torch.load(\"./model_100.pth\"))\n",
        "model.eval()"
      ],
      "execution_count": 43,
      "outputs": [
        {
          "output_type": "execute_result",
          "data": {
            "text/plain": [
              "TransformerModel(\n",
              "  (encoder): Embedding(400002, 50)\n",
              "  (pos_encoder): PositionalEncoding(\n",
              "    (dropout): Dropout(p=0.2, inplace=False)\n",
              "  )\n",
              "  (transformer_encoder): TransformerEncoder(\n",
              "    (layers): ModuleList(\n",
              "      (0): TransformerEncoderLayer(\n",
              "        (self_attn): MultiheadAttention(\n",
              "          (out_proj): _LinearWithBias(in_features=50, out_features=50, bias=True)\n",
              "        )\n",
              "        (linear1): Linear(in_features=50, out_features=2048, bias=True)\n",
              "        (dropout): Dropout(p=0.2, inplace=False)\n",
              "        (linear2): Linear(in_features=2048, out_features=50, bias=True)\n",
              "        (norm1): LayerNorm((50,), eps=1e-05, elementwise_affine=True)\n",
              "        (norm2): LayerNorm((50,), eps=1e-05, elementwise_affine=True)\n",
              "        (dropout1): Dropout(p=0.2, inplace=False)\n",
              "        (dropout2): Dropout(p=0.2, inplace=False)\n",
              "      )\n",
              "      (1): TransformerEncoderLayer(\n",
              "        (self_attn): MultiheadAttention(\n",
              "          (out_proj): _LinearWithBias(in_features=50, out_features=50, bias=True)\n",
              "        )\n",
              "        (linear1): Linear(in_features=50, out_features=2048, bias=True)\n",
              "        (dropout): Dropout(p=0.2, inplace=False)\n",
              "        (linear2): Linear(in_features=2048, out_features=50, bias=True)\n",
              "        (norm1): LayerNorm((50,), eps=1e-05, elementwise_affine=True)\n",
              "        (norm2): LayerNorm((50,), eps=1e-05, elementwise_affine=True)\n",
              "        (dropout1): Dropout(p=0.2, inplace=False)\n",
              "        (dropout2): Dropout(p=0.2, inplace=False)\n",
              "      )\n",
              "      (2): TransformerEncoderLayer(\n",
              "        (self_attn): MultiheadAttention(\n",
              "          (out_proj): _LinearWithBias(in_features=50, out_features=50, bias=True)\n",
              "        )\n",
              "        (linear1): Linear(in_features=50, out_features=2048, bias=True)\n",
              "        (dropout): Dropout(p=0.2, inplace=False)\n",
              "        (linear2): Linear(in_features=2048, out_features=50, bias=True)\n",
              "        (norm1): LayerNorm((50,), eps=1e-05, elementwise_affine=True)\n",
              "        (norm2): LayerNorm((50,), eps=1e-05, elementwise_affine=True)\n",
              "        (dropout1): Dropout(p=0.2, inplace=False)\n",
              "        (dropout2): Dropout(p=0.2, inplace=False)\n",
              "      )\n",
              "      (3): TransformerEncoderLayer(\n",
              "        (self_attn): MultiheadAttention(\n",
              "          (out_proj): _LinearWithBias(in_features=50, out_features=50, bias=True)\n",
              "        )\n",
              "        (linear1): Linear(in_features=50, out_features=2048, bias=True)\n",
              "        (dropout): Dropout(p=0.2, inplace=False)\n",
              "        (linear2): Linear(in_features=2048, out_features=50, bias=True)\n",
              "        (norm1): LayerNorm((50,), eps=1e-05, elementwise_affine=True)\n",
              "        (norm2): LayerNorm((50,), eps=1e-05, elementwise_affine=True)\n",
              "        (dropout1): Dropout(p=0.2, inplace=False)\n",
              "        (dropout2): Dropout(p=0.2, inplace=False)\n",
              "      )\n",
              "      (4): TransformerEncoderLayer(\n",
              "        (self_attn): MultiheadAttention(\n",
              "          (out_proj): _LinearWithBias(in_features=50, out_features=50, bias=True)\n",
              "        )\n",
              "        (linear1): Linear(in_features=50, out_features=2048, bias=True)\n",
              "        (dropout): Dropout(p=0.2, inplace=False)\n",
              "        (linear2): Linear(in_features=2048, out_features=50, bias=True)\n",
              "        (norm1): LayerNorm((50,), eps=1e-05, elementwise_affine=True)\n",
              "        (norm2): LayerNorm((50,), eps=1e-05, elementwise_affine=True)\n",
              "        (dropout1): Dropout(p=0.2, inplace=False)\n",
              "        (dropout2): Dropout(p=0.2, inplace=False)\n",
              "      )\n",
              "      (5): TransformerEncoderLayer(\n",
              "        (self_attn): MultiheadAttention(\n",
              "          (out_proj): _LinearWithBias(in_features=50, out_features=50, bias=True)\n",
              "        )\n",
              "        (linear1): Linear(in_features=50, out_features=2048, bias=True)\n",
              "        (dropout): Dropout(p=0.2, inplace=False)\n",
              "        (linear2): Linear(in_features=2048, out_features=50, bias=True)\n",
              "        (norm1): LayerNorm((50,), eps=1e-05, elementwise_affine=True)\n",
              "        (norm2): LayerNorm((50,), eps=1e-05, elementwise_affine=True)\n",
              "        (dropout1): Dropout(p=0.2, inplace=False)\n",
              "        (dropout2): Dropout(p=0.2, inplace=False)\n",
              "      )\n",
              "    )\n",
              "  )\n",
              "  (fc_out): Linear(in_features=50, out_features=17, bias=True)\n",
              "  (dropout): Dropout(p=0.2, inplace=False)\n",
              ")"
            ]
          },
          "metadata": {
            "tags": []
          },
          "execution_count": 43
        }
      ]
    },
    {
      "cell_type": "code",
      "metadata": {
        "id": "_-l3R7hCmMav"
      },
      "source": [
        "def predict(model, sentence):\n",
        "    model.eval()\n",
        "    words = sentence.translate(str.maketrans('','',string.punctuation)).split()\n",
        "    data = [[word_to_index[word.lower()] for word in words]]\n",
        "    data = torch.LongTensor(data)\n",
        "    data = data.transpose(0, 1).contiguous().cuda()\n",
        "    outputs = model(data)\n",
        "    outputs = outputs.view(outputs.shape[0]*outputs.shape[1], outputs.shape[2])\n",
        "    outputs = outputs.data.cpu().numpy()\n",
        "    outputs = np.argmax(outputs, axis=1)\n",
        "    ner = \"\"\n",
        "    for i, j in enumerate(outputs):\n",
        "        ner =  ner + \" \" + words[i]+\"(\"+idx2tag[j].upper()+\")\"\n",
        "    print(ner.strip())"
      ],
      "execution_count": 44,
      "outputs": []
    },
    {
      "cell_type": "code",
      "metadata": {
        "colab": {
          "base_uri": "https://localhost:8080/"
        },
        "id": "Ehr98xHVmO5i",
        "outputId": "5a7bf6d6-7e1c-4d8d-a7d9-53b0a984eeb3"
      },
      "source": [
        "input_sentence = \"Carrie Mathison, a CIA operations officer, conducts an unauthorized operation in Iraq and is reassigned to the CIA's Counterterrorism Center in Langley, Virginia. Nicholas Brody, a U.S. Marine Sergeant who had been reported as missing in action since 2003, is rescued from a compound belonging to terrorist Abu Nazir. Brody is heralded as a war hero, but Carrie comes to suspect that he is planning a terrorist attack against the United States.\"\n",
        "predict(model, input_sentence)"
      ],
      "execution_count": 45,
      "outputs": [
        {
          "output_type": "stream",
          "text": [
            "Carrie(B-PER) Mathison(I-PER) a(O) CIA(B-ORG) operations(I-ORG) officer(I-ORG) conducts(I-ORG) an(O) unauthorized(B-ART) operation(B-EVE) in(O) Iraq(B-GEO) and(I-ORG) is(O) reassigned(B-ORG) to(O) the(O) CIAs(B-ART) Counterterrorism(I-ORG) Center(I-ART) in(O) Langley(I-ART) Virginia(I-GEO) Nicholas(B-PER) Brody(B-PER) a(O) US(B-GEO) Marine(I-ORG) Sergeant(I-ORG) who(O) had(O) been(O) reported(O) as(O) missing(O) in(O) action(O) since(B-TIM) 2003(B-TIM) is(O) rescued(O) from(O) a(O) compound(B-ART) belonging(I-ORG) to(O) terrorist(I-ORG) Abu(B-PER) Nazir(I-PER) Brody(B-PER) is(O) heralded(O) as(O) a(O) war(I-EVE) hero(O) but(O) Carrie(B-PER) comes(O) to(O) suspect(O) that(O) he(O) is(O) planning(I-ORG) a(O) terrorist(I-ORG) attack(O) against(O) the(O) United(B-GEO) States(I-GEO)\n"
          ],
          "name": "stdout"
        }
      ]
    },
    {
      "cell_type": "code",
      "metadata": {
        "id": "nDSXph4Om5cd"
      },
      "source": [
        ""
      ],
      "execution_count": 45,
      "outputs": []
    }
  ]
}